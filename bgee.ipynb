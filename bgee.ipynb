{
 "cells": [
  {
   "cell_type": "markdown",
   "metadata": {},
   "source": [
    "# Bgee\n",
    "\n",
    "Extracting data from [Bgee](http://bgee.org/). See [this Thinklab discussion](http://thinklab.com/discussion/tissue-specific-gene-expression-resources/81#278) for more information."
   ]
  },
  {
   "cell_type": "code",
   "execution_count": 1,
   "metadata": {
    "collapsed": true
   },
   "outputs": [],
   "source": [
    "import collections\n",
    "import gzip\n",
    "\n",
    "import pandas\n",
    "import seaborn\n",
    "import numpy\n",
    "import matplotlib.pyplot as plt\n",
    "import IPython\n",
    "\n",
    "%matplotlib inline"
   ]
  },
  {
   "cell_type": "code",
   "execution_count": 2,
   "metadata": {
    "collapsed": true
   },
   "outputs": [],
   "source": [
    "def get_groupby_counts(df, columns):\n",
    "    \"\"\"Group datagrame by columns and return the number of rows for each grouping.\"\"\"\n",
    "    grouped = df.groupby(columns)\n",
    "    get_len = lambda df: pandas.Series({'count': len(df)})\n",
    "    df = grouped.apply(get_len)\n",
    "    df = df.sort('count', ascending=False)\n",
    "    df = df.reset_index()\n",
    "    return df"
   ]
  },
  {
   "cell_type": "markdown",
   "metadata": {},
   "source": [
    "## Load entrez gene for ensembl conversion"
   ]
  },
  {
   "cell_type": "code",
   "execution_count": 3,
   "metadata": {
    "collapsed": false
   },
   "outputs": [],
   "source": [
    "# Read Entrez Genes\n",
    "url = 'https://raw.githubusercontent.com/dhimmel/entrez-gene/5352b31e04ec136e99d25a0ba63e8867aa71b69f/data/genes-human.tsv'\n",
    "entrez_df = pandas.read_table(url)\n",
    "coding_genes = set(entrez_df.GeneID[entrez_df.type_of_gene == 'protein-coding'])\n",
    "\n",
    "# Merge with entrez gene identifiers\n",
    "url = 'https://raw.githubusercontent.com/dhimmel/entrez-gene/5352b31e04ec136e99d25a0ba63e8867aa71b69f/data/xrefs-human.tsv'\n",
    "entrez_map_df = pandas.read_table(url)    \n",
    "entrez_map_df = entrez_map_df[entrez_map_df.resource == 'Ensembl']\n",
    "\n",
    "ensembl_to_entrez = dict(zip(entrez_map_df.identifier, entrez_map_df.GeneID))"
   ]
  },
  {
   "cell_type": "markdown",
   "metadata": {},
   "source": [
    "## Read and process presence of expression data"
   ]
  },
  {
   "cell_type": "code",
   "execution_count": 4,
   "metadata": {
    "collapsed": false
   },
   "outputs": [
    {
     "data": {
      "text/html": [
       "<div>\n",
       "<table border=\"1\" class=\"dataframe\">\n",
       "  <thead>\n",
       "    <tr style=\"text-align: right;\">\n",
       "      <th></th>\n",
       "      <th>Gene ID</th>\n",
       "      <th>Gene name</th>\n",
       "      <th>Anatomical entity ID</th>\n",
       "      <th>Anatomical entity name</th>\n",
       "      <th>Developmental stage ID</th>\n",
       "      <th>Developmental stage name</th>\n",
       "      <th>Expression</th>\n",
       "      <th>Call quality</th>\n",
       "      <th>Including observed data</th>\n",
       "      <th>Affymetrix data</th>\n",
       "      <th>...</th>\n",
       "      <th>Including Affymetrix observed data</th>\n",
       "      <th>EST data</th>\n",
       "      <th>EST call quality</th>\n",
       "      <th>Including EST observed data</th>\n",
       "      <th>In situ data</th>\n",
       "      <th>In situ call quality</th>\n",
       "      <th>Including in situ observed data</th>\n",
       "      <th>RNA-Seq data</th>\n",
       "      <th>RNA-Seq call quality</th>\n",
       "      <th>Including RNA-Seq observed data</th>\n",
       "    </tr>\n",
       "  </thead>\n",
       "  <tbody>\n",
       "    <tr>\n",
       "      <th>0</th>\n",
       "      <td>ENSG00000000003</td>\n",
       "      <td>TSPAN6</td>\n",
       "      <td>CL:0000000</td>\n",
       "      <td>cell</td>\n",
       "      <td>HsapDv:0000087</td>\n",
       "      <td>human adult stage (human)</td>\n",
       "      <td>present</td>\n",
       "      <td>high quality</td>\n",
       "      <td>no</td>\n",
       "      <td>present</td>\n",
       "      <td>...</td>\n",
       "      <td>no</td>\n",
       "      <td>no data</td>\n",
       "      <td>no data</td>\n",
       "      <td>no</td>\n",
       "      <td>no data</td>\n",
       "      <td>no data</td>\n",
       "      <td>no</td>\n",
       "      <td>no data</td>\n",
       "      <td>no data</td>\n",
       "      <td>no</td>\n",
       "    </tr>\n",
       "    <tr>\n",
       "      <th>1</th>\n",
       "      <td>ENSG00000000003</td>\n",
       "      <td>TSPAN6</td>\n",
       "      <td>CL:0000000</td>\n",
       "      <td>cell</td>\n",
       "      <td>HsapDv:0000088</td>\n",
       "      <td>human early adulthood stage (human)</td>\n",
       "      <td>present</td>\n",
       "      <td>high quality</td>\n",
       "      <td>no</td>\n",
       "      <td>present</td>\n",
       "      <td>...</td>\n",
       "      <td>no</td>\n",
       "      <td>no data</td>\n",
       "      <td>no data</td>\n",
       "      <td>no</td>\n",
       "      <td>no data</td>\n",
       "      <td>no data</td>\n",
       "      <td>no</td>\n",
       "      <td>no data</td>\n",
       "      <td>no data</td>\n",
       "      <td>no</td>\n",
       "    </tr>\n",
       "    <tr>\n",
       "      <th>2</th>\n",
       "      <td>ENSG00000000003</td>\n",
       "      <td>TSPAN6</td>\n",
       "      <td>CL:0000000</td>\n",
       "      <td>cell</td>\n",
       "      <td>HsapDv:0000089</td>\n",
       "      <td>young adult stage (human)</td>\n",
       "      <td>present</td>\n",
       "      <td>high quality</td>\n",
       "      <td>no</td>\n",
       "      <td>present</td>\n",
       "      <td>...</td>\n",
       "      <td>no</td>\n",
       "      <td>no data</td>\n",
       "      <td>no data</td>\n",
       "      <td>no</td>\n",
       "      <td>no data</td>\n",
       "      <td>no data</td>\n",
       "      <td>no</td>\n",
       "      <td>no data</td>\n",
       "      <td>no data</td>\n",
       "      <td>no</td>\n",
       "    </tr>\n",
       "    <tr>\n",
       "      <th>3</th>\n",
       "      <td>ENSG00000000003</td>\n",
       "      <td>TSPAN6</td>\n",
       "      <td>CL:0000000</td>\n",
       "      <td>cell</td>\n",
       "      <td>HsapDv:0000090</td>\n",
       "      <td>25-44 year-old human stage (human)</td>\n",
       "      <td>present</td>\n",
       "      <td>high quality</td>\n",
       "      <td>no</td>\n",
       "      <td>present</td>\n",
       "      <td>...</td>\n",
       "      <td>no</td>\n",
       "      <td>no data</td>\n",
       "      <td>no data</td>\n",
       "      <td>no</td>\n",
       "      <td>no data</td>\n",
       "      <td>no data</td>\n",
       "      <td>no</td>\n",
       "      <td>no data</td>\n",
       "      <td>no data</td>\n",
       "      <td>no</td>\n",
       "    </tr>\n",
       "    <tr>\n",
       "      <th>4</th>\n",
       "      <td>ENSG00000000003</td>\n",
       "      <td>TSPAN6</td>\n",
       "      <td>CL:0000000</td>\n",
       "      <td>cell</td>\n",
       "      <td>HsapDv:0000091</td>\n",
       "      <td>human late adulthood stage (human)</td>\n",
       "      <td>present</td>\n",
       "      <td>high quality</td>\n",
       "      <td>no</td>\n",
       "      <td>present</td>\n",
       "      <td>...</td>\n",
       "      <td>no</td>\n",
       "      <td>no data</td>\n",
       "      <td>no data</td>\n",
       "      <td>no</td>\n",
       "      <td>no data</td>\n",
       "      <td>no data</td>\n",
       "      <td>no</td>\n",
       "      <td>no data</td>\n",
       "      <td>no data</td>\n",
       "      <td>no</td>\n",
       "    </tr>\n",
       "  </tbody>\n",
       "</table>\n",
       "<p>5 rows × 21 columns</p>\n",
       "</div>"
      ],
      "text/plain": [
       "           Gene ID Gene name Anatomical entity ID Anatomical entity name  \\\n",
       "0  ENSG00000000003    TSPAN6           CL:0000000                   cell   \n",
       "1  ENSG00000000003    TSPAN6           CL:0000000                   cell   \n",
       "2  ENSG00000000003    TSPAN6           CL:0000000                   cell   \n",
       "3  ENSG00000000003    TSPAN6           CL:0000000                   cell   \n",
       "4  ENSG00000000003    TSPAN6           CL:0000000                   cell   \n",
       "\n",
       "  Developmental stage ID             Developmental stage name Expression  \\\n",
       "0         HsapDv:0000087            human adult stage (human)    present   \n",
       "1         HsapDv:0000088  human early adulthood stage (human)    present   \n",
       "2         HsapDv:0000089            young adult stage (human)    present   \n",
       "3         HsapDv:0000090   25-44 year-old human stage (human)    present   \n",
       "4         HsapDv:0000091   human late adulthood stage (human)    present   \n",
       "\n",
       "   Call quality Including observed data Affymetrix data  \\\n",
       "0  high quality                      no         present   \n",
       "1  high quality                      no         present   \n",
       "2  high quality                      no         present   \n",
       "3  high quality                      no         present   \n",
       "4  high quality                      no         present   \n",
       "\n",
       "                ...               Including Affymetrix observed data EST data  \\\n",
       "0               ...                                               no  no data   \n",
       "1               ...                                               no  no data   \n",
       "2               ...                                               no  no data   \n",
       "3               ...                                               no  no data   \n",
       "4               ...                                               no  no data   \n",
       "\n",
       "  EST call quality Including EST observed data In situ data  \\\n",
       "0          no data                          no      no data   \n",
       "1          no data                          no      no data   \n",
       "2          no data                          no      no data   \n",
       "3          no data                          no      no data   \n",
       "4          no data                          no      no data   \n",
       "\n",
       "  In situ call quality Including in situ observed data RNA-Seq data  \\\n",
       "0              no data                              no      no data   \n",
       "1              no data                              no      no data   \n",
       "2              no data                              no      no data   \n",
       "3              no data                              no      no data   \n",
       "4              no data                              no      no data   \n",
       "\n",
       "  RNA-Seq call quality Including RNA-Seq observed data  \n",
       "0              no data                              no  \n",
       "1              no data                              no  \n",
       "2              no data                              no  \n",
       "3              no data                              no  \n",
       "4              no data                              no  \n",
       "\n",
       "[5 rows x 21 columns]"
      ]
     },
     "execution_count": 4,
     "metadata": {},
     "output_type": "execute_result"
    }
   ],
   "source": [
    "# Read expression\n",
    "presence_df = pandas.read_table('download/Homo_sapiens_expr-complete.tsv.gz')\n",
    "presence_df.head(2)"
   ]
  },
  {
   "cell_type": "markdown",
   "metadata": {},
   "source": [
    "### Contingency table (as percents) of `Expression` versus `Call quality`\n",
    "\n",
    "Documentation of Expression and Call Quality is [below](http://bgee.org/?page=doc&action=call_files#single_expr_complete_col7):\n",
    "> #### Expression (column 7)\n",
    "Call generated from all data types for Gene ID (column 1), in Anatomical entity ID (column 3), at Developmental stage ID (column 5). One of:\n",
    "+ **present**: report of presence of expression, from Bgee statistical tests and/or from in situ data sources. See Call quality (column 8) for associated quality level.\n",
    "+ **absent**: report of absence of expression, from Bgee statistical tests and/or from in situ data sources. In Bgee, calls of absence of expression are always discarded if there exists a contradicting call of expression, from the same data type and for the same gene, in the same anatomical entity and developmental stage, or in a child entity or child developmental stage. See Call quality (column 8) for associated quality level.\n",
    "+ **low ambiguity**: there exists a call of expression generated from a data type, but there exists a call of absence of expression generated from another data type for the same gene in a parent anatomical entity at the same developmental stage. For instance, gene A is reported to be expressed in the midbrain at young adult stage from Affymetrix data, but is reported to be not expressed in the brain at young adult stage from RNA-Seq data.\n",
    "+ **high ambiguity**: there exists a call of expression generated from a data type, but there exists a call of absence of expression generated from another data type for the same gene, anatomical entity and developmental stage. For instance, gene A is reported to be expressed in the midbrain at young adult stage from Affymetrix data, but is reported to be not expressed in the midbrain at young adult stage from RNA-Seq data.\n",
    "\n",
    "> #### Call quality (column 8)\n",
    "Quality associated to the call in column Expression (column7). One of:\n",
    "+ **high quality**:\n",
    "  + In case of report of expression, expression reported as high quality from Bgee statistical tests and/or from in situ data sources, with no contradicting call of absence of expression for same gene, in same anatomical entity and developmental stage (call generated either from multiple congruent data, or from single data).\n",
    "  + In case of report of absence of expression, call reported as high quality either from Bgee statistical tests and/or from in situ data sources. In Bgee, calls of absence of expression are always discarded if there exists a contradicting call of expression, from the same data type and for the same gene, in the same anatomical entity and developmental stage, or in a child entity or child developmental stage. This is why they are always considered of high quality.\n",
    "+ **poor quality**: in case of report of expression, expression reported as low quality from Bgee statistical tests and/or from in situ data sources, or because there exists a conflict of presence/absence of expression for the same gene, anatomical entity and developmental stage, from different data of a same type (conflicts between different data types are treated differently, see ambiguity states in column Expression ).\n",
    "+ **NA**: when the call in column Expression is ambiguous.\n"
   ]
  },
  {
   "cell_type": "code",
   "execution_count": 19,
   "metadata": {
    "collapsed": false
   },
   "outputs": [
    {
     "data": {
      "text/html": [
       "<div>\n",
       "<table border=\"1\" class=\"dataframe\">\n",
       "  <thead>\n",
       "    <tr style=\"text-align: right;\">\n",
       "      <th>Expression</th>\n",
       "      <th>absent</th>\n",
       "      <th>high ambiguity</th>\n",
       "      <th>low ambiguity</th>\n",
       "      <th>present</th>\n",
       "    </tr>\n",
       "    <tr>\n",
       "      <th>Call quality</th>\n",
       "      <th></th>\n",
       "      <th></th>\n",
       "      <th></th>\n",
       "      <th></th>\n",
       "    </tr>\n",
       "  </thead>\n",
       "  <tbody>\n",
       "    <tr>\n",
       "      <th>NA</th>\n",
       "      <td>0.000000</td>\n",
       "      <td>0.001063</td>\n",
       "      <td>0.001174</td>\n",
       "      <td>0.000000</td>\n",
       "    </tr>\n",
       "    <tr>\n",
       "      <th>high quality</th>\n",
       "      <td>0.105275</td>\n",
       "      <td>0.000000</td>\n",
       "      <td>0.000000</td>\n",
       "      <td>0.665991</td>\n",
       "    </tr>\n",
       "    <tr>\n",
       "      <th>poor quality</th>\n",
       "      <td>0.000000</td>\n",
       "      <td>0.000000</td>\n",
       "      <td>0.000000</td>\n",
       "      <td>0.226497</td>\n",
       "    </tr>\n",
       "  </tbody>\n",
       "</table>\n",
       "</div>"
      ],
      "text/plain": [
       "Expression      absent  high ambiguity  low ambiguity   present\n",
       "Call quality                                                   \n",
       "NA            0.000000        0.001063       0.001174  0.000000\n",
       "high quality  0.105275        0.000000       0.000000  0.665991\n",
       "poor quality  0.000000        0.000000       0.000000  0.226497"
      ]
     },
     "execution_count": 19,
     "metadata": {},
     "output_type": "execute_result"
    }
   ],
   "source": [
    "pandas.crosstab(presence_df['Call quality'].fillna('NA'), presence_df['Expression']) / len(presence_df)"
   ]
  },
  {
   "cell_type": "code",
   "execution_count": 24,
   "metadata": {
    "collapsed": false
   },
   "outputs": [],
   "source": [
    "# Apply filters for gene presence\n",
    "present_df = presence_df[\n",
    "    presence_df['Expression'].isin({'present'}) &\n",
    "    presence_df['Call quality'].isin({'high quality'})\n",
    "]"
   ]
  },
  {
   "cell_type": "code",
   "execution_count": null,
   "metadata": {
    "collapsed": false
   },
   "outputs": [],
   "source": [
    "# Find genes present per developmental stage\n",
    "stage_df = get_groupby_counts(present_df, ['Developmental stage ID', 'Developmental stage name'])\n",
    "stage_df.head(12)"
   ]
  },
  {
   "cell_type": "code",
   "execution_count": null,
   "metadata": {
    "collapsed": false
   },
   "outputs": [],
   "source": [
    "# Find genes present per anatomical entity\n",
    "anatomy_df = get_groupby_counts(present_df, ['Anatomical entity ID', 'Anatomical entity name'])\n",
    "anatomy_df.head(10)"
   ]
  },
  {
   "cell_type": "markdown",
   "metadata": {},
   "source": [
    "### Figure 1: Number of genes present by developmental stage and anatomical entity"
   ]
  },
  {
   "cell_type": "code",
   "execution_count": null,
   "metadata": {
    "collapsed": false,
    "scrolled": false
   },
   "outputs": [],
   "source": [
    "# Number of present genes per development stage -- anatomical entity pair\n",
    "pairwise_df = get_groupby_counts(present_df, ['Developmental stage name', 'Anatomical entity name'])\n",
    "rect_df = pairwise_df.pivot('Developmental stage name', 'Anatomical entity name', 'count').fillna(0)\n",
    "rect_df = rect_df.loc[stage_df['Developmental stage name'][:30], anatomy_df['Anatomical entity name'][:50]]\n",
    "IPython.core.pylabtools.figsize(14, 7)\n",
    "seaborn.heatmap(rect_df);"
   ]
  },
  {
   "cell_type": "code",
   "execution_count": null,
   "metadata": {
    "collapsed": false
   },
   "outputs": [],
   "source": [
    "# filter to human adult stage (human)\n",
    "adult_df = present_df[present_df['Developmental stage ID'] == 'HsapDv:0000087']\n",
    "\n",
    "# pivot dataframe so each column is an anatomical entity\n",
    "adult_df = adult_df.pivot('Gene ID', 'Anatomical entity ID', 'Expression')\n",
    "adult_df = (adult_df == 'present').astype(int)\n",
    "\n",
    "# convert to entrez GeneIDs\n",
    "adult_df = adult_df.groupby(ensembl_to_entrez).max()\n",
    "adult_df = adult_df.reset_index()\n",
    "adult_df = adult_df.rename(columns=({'index': 'GeneID'}))\n",
    "adult_df.GeneID = adult_df.GeneID.astype(int)\n",
    "\n",
    "# save dataframe\n",
    "with gzip.open('data/present-in-adult.tsv.gz', 'wt') as write_file:\n",
    "    adult_df.to_csv(write_file, sep='\\t', index=False)\n",
    "\n",
    "# see tail\n",
    "adult_df.tail()"
   ]
  },
  {
   "cell_type": "code",
   "execution_count": null,
   "metadata": {
    "collapsed": false
   },
   "outputs": [],
   "source": [
    "# Coding genes in entrez dataset\n",
    "len(set(adult_df.GeneID) & coding_genes)"
   ]
  },
  {
   "cell_type": "code",
   "execution_count": null,
   "metadata": {
    "collapsed": false
   },
   "outputs": [],
   "source": [
    "# Frequency of gene presence \n",
    "adult_df.drop('GeneID', 1).as_matrix().mean()"
   ]
  },
  {
   "cell_type": "markdown",
   "metadata": {},
   "source": [
    "## Read and process differential expression data"
   ]
  },
  {
   "cell_type": "code",
   "execution_count": 25,
   "metadata": {
    "collapsed": false
   },
   "outputs": [
    {
     "data": {
      "text/html": [
       "<div>\n",
       "<table border=\"1\" class=\"dataframe\">\n",
       "  <thead>\n",
       "    <tr style=\"text-align: right;\">\n",
       "      <th></th>\n",
       "      <th>Gene ID</th>\n",
       "      <th>Gene name</th>\n",
       "      <th>Anatomical entity ID</th>\n",
       "      <th>Anatomical entity name</th>\n",
       "      <th>Developmental stage ID</th>\n",
       "      <th>Developmental stage name</th>\n",
       "      <th>Differential expression</th>\n",
       "      <th>Call quality</th>\n",
       "    </tr>\n",
       "  </thead>\n",
       "  <tbody>\n",
       "    <tr>\n",
       "      <th>0</th>\n",
       "      <td>ENSG00000000003</td>\n",
       "      <td>TSPAN6</td>\n",
       "      <td>CL:0000015</td>\n",
       "      <td>male germ cell</td>\n",
       "      <td>UBERON:0000113</td>\n",
       "      <td>post-juvenile adult stage</td>\n",
       "      <td>over-expression</td>\n",
       "      <td>low quality</td>\n",
       "    </tr>\n",
       "    <tr>\n",
       "      <th>1</th>\n",
       "      <td>ENSG00000000003</td>\n",
       "      <td>TSPAN6</td>\n",
       "      <td>CL:0000738</td>\n",
       "      <td>leukocyte</td>\n",
       "      <td>UBERON:0000113</td>\n",
       "      <td>post-juvenile adult stage</td>\n",
       "      <td>under-expression</td>\n",
       "      <td>high quality</td>\n",
       "    </tr>\n",
       "    <tr>\n",
       "      <th>2</th>\n",
       "      <td>ENSG00000000003</td>\n",
       "      <td>TSPAN6</td>\n",
       "      <td>UBERON:0000002</td>\n",
       "      <td>uterine cervix</td>\n",
       "      <td>UBERON:0000113</td>\n",
       "      <td>post-juvenile adult stage</td>\n",
       "      <td>over-expression</td>\n",
       "      <td>high quality</td>\n",
       "    </tr>\n",
       "    <tr>\n",
       "      <th>3</th>\n",
       "      <td>ENSG00000000003</td>\n",
       "      <td>TSPAN6</td>\n",
       "      <td>UBERON:0000007</td>\n",
       "      <td>pituitary gland</td>\n",
       "      <td>UBERON:0000113</td>\n",
       "      <td>post-juvenile adult stage</td>\n",
       "      <td>over-expression</td>\n",
       "      <td>high quality</td>\n",
       "    </tr>\n",
       "    <tr>\n",
       "      <th>4</th>\n",
       "      <td>ENSG00000000003</td>\n",
       "      <td>TSPAN6</td>\n",
       "      <td>UBERON:0000029</td>\n",
       "      <td>lymph node</td>\n",
       "      <td>UBERON:0000113</td>\n",
       "      <td>post-juvenile adult stage</td>\n",
       "      <td>under-expression</td>\n",
       "      <td>high quality</td>\n",
       "    </tr>\n",
       "  </tbody>\n",
       "</table>\n",
       "</div>"
      ],
      "text/plain": [
       "           Gene ID Gene name Anatomical entity ID Anatomical entity name  \\\n",
       "0  ENSG00000000003    TSPAN6           CL:0000015         male germ cell   \n",
       "1  ENSG00000000003    TSPAN6           CL:0000738              leukocyte   \n",
       "2  ENSG00000000003    TSPAN6       UBERON:0000002         uterine cervix   \n",
       "3  ENSG00000000003    TSPAN6       UBERON:0000007        pituitary gland   \n",
       "4  ENSG00000000003    TSPAN6       UBERON:0000029             lymph node   \n",
       "\n",
       "  Developmental stage ID   Developmental stage name Differential expression  \\\n",
       "0         UBERON:0000113  post-juvenile adult stage         over-expression   \n",
       "1         UBERON:0000113  post-juvenile adult stage        under-expression   \n",
       "2         UBERON:0000113  post-juvenile adult stage         over-expression   \n",
       "3         UBERON:0000113  post-juvenile adult stage         over-expression   \n",
       "4         UBERON:0000113  post-juvenile adult stage        under-expression   \n",
       "\n",
       "   Call quality  \n",
       "0   low quality  \n",
       "1  high quality  \n",
       "2  high quality  \n",
       "3  high quality  \n",
       "4  high quality  "
      ]
     },
     "execution_count": 25,
     "metadata": {},
     "output_type": "execute_result"
    }
   ],
   "source": [
    "# Read simple differential expression by anatomy\n",
    "diffex_df = pandas.read_table('download/Homo_sapiens_diffexpr-anatomy-simple.tsv.gz', compression='gzip')\n",
    "diffex_df.head(2)"
   ]
  },
  {
   "cell_type": "markdown",
   "metadata": {},
   "source": [
    "### Contingency table (as percents) of `Differential expression` versus `Call quality`\n",
    "\n",
    "Documentation of `Differential expression` and `Call quality` is [below](http://bgee.org/?page=doc&action=call_files#single_diff_simple_col7):\n",
    "\n",
    "> #### Differential expression (column 7)\n",
    "Call generated from all data types for Gene ID (column 1), in Anatomical entity ID (column 3), at Developmental stage ID (column 5). One of:\n",
    "+ **over-expression**: the gene was shown in one or more analyses to have a significant over-expression in this condition, as compared to the expression levels in other conditions of the analyses.\n",
    "+ **under-expression**: the gene was shown in one or more analyses to have a significant under-expression in this condition, as compared to the expression levels in other conditions of the analyses.\n",
    "+ **weak ambiguity**: there exists a call of over-expression or under-expression generated from a data type, but another data type showed no significant variation of the level of expression of this gene in the same condition; or, a gene was shown to be never expressed in a condition by some analyses of a given data type, but other analyses of different data types produced a call of over-expression or of absence of differential expression for the same gene, in the same condition (note that conflicts where a data type produced an under-expression call in a condition, while another data type showed the same gene to be never expressed in that condition, do not produce a weak ambiguity call, but a call of under-expression low quality).\n",
    "+ **strong ambiguity**: there exists a call of over-expression or under-expression generated from a data type, but there exists a call in the opposite direction generated from another data type for the same gene, anatomical entity and developmental stage. For instance, gene A is reported to be over-expressed in the midbrain at young adult stage from Affymetrix data, but is reported to be under-expressed in the midbrain at young adult stage from RNA-Seq data.\n",
    "\n",
    "> #### Call quality (column 8)\n",
    "Confidence in the differential expression call provided in Differential expression (column 7). One of:\n",
    "+ **high quality**: differential expression reported as high quality, with no contradicting call from same type of analysis (across anatomy/across life stages), for same gene, in same anatomical entity and developmental stage, (call generated either from multiple congruent analyses, or from a single analysis).\n",
    "+ **poor quality**: differential expression reported as low quality, or there exists a conflict for the same gene, anatomical entity and developmental stage, from different analyses of a same data type (conflicts between different data types are treated differently). For instance, an analysis showed a gene to be over-expressed in a condition, while another analysis showed the same gene to be under-expressed or not differentially expressed in the same condition. Such conflicts are resolved by a voting system based on the number of conditions compared, weighted by p-value. Note that in one case, this quality level is used to reconcile conflicting calls from different data types: when a data type produced an under-expression call, while a different data type has shown that the same gene was never seen as expressed in the same condition. In that case, the overall summary is under-expression low quality.\n",
    "+ **NA**: no quality applicable when ambiguity state in Differential expression (column 7)."
   ]
  },
  {
   "cell_type": "code",
   "execution_count": 29,
   "metadata": {
    "collapsed": false
   },
   "outputs": [
    {
     "data": {
      "text/html": [
       "<div>\n",
       "<table border=\"1\" class=\"dataframe\">\n",
       "  <thead>\n",
       "    <tr style=\"text-align: right;\">\n",
       "      <th>Differential expression</th>\n",
       "      <th>high ambiguity</th>\n",
       "      <th>low ambiguity</th>\n",
       "      <th>over-expression</th>\n",
       "      <th>under-expression</th>\n",
       "    </tr>\n",
       "    <tr>\n",
       "      <th>Call quality</th>\n",
       "      <th></th>\n",
       "      <th></th>\n",
       "      <th></th>\n",
       "      <th></th>\n",
       "    </tr>\n",
       "  </thead>\n",
       "  <tbody>\n",
       "    <tr>\n",
       "      <th>NA</th>\n",
       "      <td>0.024854</td>\n",
       "      <td>0.155769</td>\n",
       "      <td>0.000000</td>\n",
       "      <td>0.000000</td>\n",
       "    </tr>\n",
       "    <tr>\n",
       "      <th>high quality</th>\n",
       "      <td>0.000000</td>\n",
       "      <td>0.000000</td>\n",
       "      <td>0.211081</td>\n",
       "      <td>0.196327</td>\n",
       "    </tr>\n",
       "    <tr>\n",
       "      <th>low quality</th>\n",
       "      <td>0.000000</td>\n",
       "      <td>0.000000</td>\n",
       "      <td>0.176314</td>\n",
       "      <td>0.235655</td>\n",
       "    </tr>\n",
       "  </tbody>\n",
       "</table>\n",
       "</div>"
      ],
      "text/plain": [
       "Differential expression  high ambiguity  low ambiguity  over-expression  \\\n",
       "Call quality                                                              \n",
       "NA                             0.024854       0.155769         0.000000   \n",
       "high quality                   0.000000       0.000000         0.211081   \n",
       "low quality                    0.000000       0.000000         0.176314   \n",
       "\n",
       "Differential expression  under-expression  \n",
       "Call quality                               \n",
       "NA                               0.000000  \n",
       "high quality                     0.196327  \n",
       "low quality                      0.235655  "
      ]
     },
     "execution_count": 29,
     "metadata": {},
     "output_type": "execute_result"
    }
   ],
   "source": [
    "pandas.crosstab(diffex_df['Call quality'].fillna('NA'), diffex_df['Differential expression']) / len(diffex_df)"
   ]
  },
  {
   "cell_type": "code",
   "execution_count": null,
   "metadata": {
    "collapsed": false
   },
   "outputs": [],
   "source": [
    "# filter differential expression\n",
    "diffex_df = diffex_df[\n",
    "    diffex_df['Differential expression'].isin({'over-expression', 'under-expression'}) &\n",
    "    diffex_df['Call quality'].isin({'low quality', 'high quality'})\n",
    "]"
   ]
  },
  {
   "cell_type": "code",
   "execution_count": null,
   "metadata": {
    "collapsed": false
   },
   "outputs": [],
   "source": [
    "# Calculate counts per anatomy--DE pair\n",
    "de_anatomy_df = get_groupby_counts(diffex_df, ['Anatomical entity ID', 'Anatomical entity name', 'Differential expression'])\n",
    "de_anatomy_df.head()"
   ]
  },
  {
   "cell_type": "markdown",
   "metadata": {},
   "source": [
    "### Figure 2: Number of differntially expressed genes present by anatomical entity"
   ]
  },
  {
   "cell_type": "code",
   "execution_count": null,
   "metadata": {
    "collapsed": false,
    "scrolled": false
   },
   "outputs": [],
   "source": [
    "# Plot DE counts\n",
    "rect_df = de_anatomy_df.pivot('Anatomical entity name', 'Differential expression', 'count').fillna(0)\n",
    "rect_df['differential expression'] = rect_df['under-expression'] + rect_df['over-expression']\n",
    "rect_df = rect_df.sort('differential expression', ascending=False)\n",
    "IPython.core.pylabtools.figsize(1, 16)\n",
    "cmap = seaborn.cubehelix_palette(15, start=2.2, rot=1, gamma=1.6, hue=1, light=0.98, dark=0, as_cmap=True)\n",
    "seaborn.heatmap(rect_df.drop('differential expression', axis=1), cmap=cmap);"
   ]
  },
  {
   "cell_type": "code",
   "execution_count": null,
   "metadata": {
    "collapsed": false
   },
   "outputs": [],
   "source": [
    "diffex_pivot_df = diffex_df.pivot('Gene ID', 'Anatomical entity ID', 'Differential expression')\n",
    "diffex_pivot_df = diffex_pivot_df.replace({'under-expression': -1, 'over-expression': 1, numpy.NaN: 0})"
   ]
  },
  {
   "cell_type": "code",
   "execution_count": null,
   "metadata": {
    "collapsed": false
   },
   "outputs": [],
   "source": [
    "def round_diffex(value):\n",
    "    if value <= -0.5:\n",
    "        return -1\n",
    "    if value >= 0.5:\n",
    "        return 1\n",
    "    return 0\n",
    "\n",
    "diffex_pivot_df = diffex_pivot_df.groupby(ensembl_to_entrez).mean().applymap(round_diffex)"
   ]
  },
  {
   "cell_type": "code",
   "execution_count": null,
   "metadata": {
    "collapsed": false
   },
   "outputs": [],
   "source": [
    "diffex_pivot_df = diffex_pivot_df.reset_index()\n",
    "diffex_pivot_df = diffex_pivot_df.rename(columns=({'index': 'GeneID'}))\n",
    "diffex_pivot_df.GeneID = diffex_pivot_df.GeneID.astype(int)\n",
    "\n",
    "# save dataframe\n",
    "with gzip.open('data/diffex.tsv.gz', 'wt') as write_file:\n",
    "    diffex_pivot_df.to_csv(write_file, sep='\\t', index=False)\n",
    "\n",
    "# see tail\n",
    "diffex_pivot_df.tail()"
   ]
  },
  {
   "cell_type": "code",
   "execution_count": null,
   "metadata": {
    "collapsed": false
   },
   "outputs": [],
   "source": [
    "# Coding genes in entrez dataset\n",
    "len(set(diffex_pivot_df.GeneID) & coding_genes)"
   ]
  }
 ],
 "metadata": {
  "kernelspec": {
   "display_name": "Python 3",
   "language": "python",
   "name": "python3"
  },
  "language_info": {
   "codemirror_mode": {
    "name": "ipython",
    "version": 3
   },
   "file_extension": ".py",
   "mimetype": "text/x-python",
   "name": "python",
   "nbconvert_exporter": "python",
   "pygments_lexer": "ipython3",
   "version": "3.5.0"
  }
 },
 "nbformat": 4,
 "nbformat_minor": 0
}
