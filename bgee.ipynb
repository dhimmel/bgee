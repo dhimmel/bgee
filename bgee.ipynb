{
 "cells": [
  {
   "cell_type": "markdown",
   "metadata": {},
   "source": [
    "# Bgee\n",
    "\n",
    "Extracting data from [Bgee](http://bgee.unil.ch/). See [this Thinklab discussion](http://thinklab.com/discussion/tissue-specific-gene-expression-resources/81#278) for more information."
   ]
  },
  {
   "cell_type": "code",
   "execution_count": 1,
   "metadata": {
    "collapsed": true
   },
   "outputs": [],
   "source": [
    "import collections\n",
    "\n",
    "import pandas\n",
    "import seaborn\n",
    "import matplotlib.pyplot as plt\n",
    "import IPython\n",
    "\n",
    "%matplotlib inline"
   ]
  },
  {
   "cell_type": "code",
   "execution_count": 2,
   "metadata": {
    "collapsed": true
   },
   "outputs": [],
   "source": [
    "def get_groupby_counts(df, columns):\n",
    "    \"\"\"Group datagrame by columns and return the number of rows for each grouping.\"\"\"\n",
    "    grouped = df.groupby(columns)\n",
    "    get_len = lambda df: pandas.Series({'count': len(df)})\n",
    "    df = grouped.apply(get_len)\n",
    "    df = df.sort('count', ascending=False)\n",
    "    df = df.reset_index()\n",
    "    return df"
   ]
  },
  {
   "cell_type": "markdown",
   "metadata": {},
   "source": [
    "## Read and process presence of expression data"
   ]
  },
  {
   "cell_type": "code",
   "execution_count": 3,
   "metadata": {
    "collapsed": false
   },
   "outputs": [
    {
     "data": {
      "text/html": [
       "<div style=\"max-height:1000px;max-width:1500px;overflow:auto;\">\n",
       "<table border=\"1\" class=\"dataframe\">\n",
       "  <thead>\n",
       "    <tr style=\"text-align: right;\">\n",
       "      <th></th>\n",
       "      <th>Gene ID</th>\n",
       "      <th>Gene name</th>\n",
       "      <th>Anatomical entity ID</th>\n",
       "      <th>Anatomical entity name</th>\n",
       "      <th>Developmental stage ID</th>\n",
       "      <th>Developmental stage name</th>\n",
       "      <th>Expression</th>\n",
       "      <th>Call quality</th>\n",
       "    </tr>\n",
       "  </thead>\n",
       "  <tbody>\n",
       "    <tr>\n",
       "      <th>0</th>\n",
       "      <td>ENSG00000000003</td>\n",
       "      <td>TSPAN6</td>\n",
       "      <td>CL:0000015</td>\n",
       "      <td>male germ cell</td>\n",
       "      <td>HsapDv:0000092</td>\n",
       "      <td>human middle aged stage (human)</td>\n",
       "      <td>present</td>\n",
       "      <td>poor quality</td>\n",
       "    </tr>\n",
       "    <tr>\n",
       "      <th>1</th>\n",
       "      <td>ENSG00000000003</td>\n",
       "      <td>TSPAN6</td>\n",
       "      <td>CL:0000019</td>\n",
       "      <td>sperm</td>\n",
       "      <td>HsapDv:0000088</td>\n",
       "      <td>human early adulthood stage (human)</td>\n",
       "      <td>present</td>\n",
       "      <td>poor quality</td>\n",
       "    </tr>\n",
       "    <tr>\n",
       "      <th>2</th>\n",
       "      <td>ENSG00000000003</td>\n",
       "      <td>TSPAN6</td>\n",
       "      <td>CL:0000023</td>\n",
       "      <td>oocyte</td>\n",
       "      <td>HsapDv:0000087</td>\n",
       "      <td>human adult stage (human)</td>\n",
       "      <td>absent</td>\n",
       "      <td>high quality</td>\n",
       "    </tr>\n",
       "    <tr>\n",
       "      <th>3</th>\n",
       "      <td>ENSG00000000003</td>\n",
       "      <td>TSPAN6</td>\n",
       "      <td>CL:0000083</td>\n",
       "      <td>epithelial cell of pancreas</td>\n",
       "      <td>UBERON:0000104</td>\n",
       "      <td>life cycle</td>\n",
       "      <td>present</td>\n",
       "      <td>high quality</td>\n",
       "    </tr>\n",
       "    <tr>\n",
       "      <th>4</th>\n",
       "      <td>ENSG00000000003</td>\n",
       "      <td>TSPAN6</td>\n",
       "      <td>CL:0000115</td>\n",
       "      <td>endothelial cell</td>\n",
       "      <td>HsapDv:0000092</td>\n",
       "      <td>human middle aged stage (human)</td>\n",
       "      <td>present</td>\n",
       "      <td>poor quality</td>\n",
       "    </tr>\n",
       "  </tbody>\n",
       "</table>\n",
       "</div>"
      ],
      "text/plain": [
       "           Gene ID Gene name Anatomical entity ID  \\\n",
       "0  ENSG00000000003    TSPAN6           CL:0000015   \n",
       "1  ENSG00000000003    TSPAN6           CL:0000019   \n",
       "2  ENSG00000000003    TSPAN6           CL:0000023   \n",
       "3  ENSG00000000003    TSPAN6           CL:0000083   \n",
       "4  ENSG00000000003    TSPAN6           CL:0000115   \n",
       "\n",
       "        Anatomical entity name Developmental stage ID  \\\n",
       "0               male germ cell         HsapDv:0000092   \n",
       "1                        sperm         HsapDv:0000088   \n",
       "2                       oocyte         HsapDv:0000087   \n",
       "3  epithelial cell of pancreas         UBERON:0000104   \n",
       "4             endothelial cell         HsapDv:0000092   \n",
       "\n",
       "              Developmental stage name Expression  Call quality  \n",
       "0      human middle aged stage (human)    present  poor quality  \n",
       "1  human early adulthood stage (human)    present  poor quality  \n",
       "2            human adult stage (human)     absent  high quality  \n",
       "3                           life cycle    present  high quality  \n",
       "4      human middle aged stage (human)    present  poor quality  "
      ]
     },
     "execution_count": 3,
     "metadata": {},
     "output_type": "execute_result"
    }
   ],
   "source": [
    "# Read expression\n",
    "presence_df = pandas.read_table('download/Homo_sapiens_expr-simple.tsv.gz', compression='gzip')\n",
    "presence_df.head()"
   ]
  },
  {
   "cell_type": "code",
   "execution_count": 4,
   "metadata": {
    "collapsed": false
   },
   "outputs": [],
   "source": [
    "# Apply filters for gene presence\n",
    "present_df = presence_df[\n",
    "    presence_df['Call quality'].isin({'high quality', 'low quality'}) &\n",
    "    presence_df['Expression'].isin({'present', 'low ambiguity'})\n",
    "]"
   ]
  },
  {
   "cell_type": "code",
   "execution_count": 5,
   "metadata": {
    "collapsed": false
   },
   "outputs": [
    {
     "data": {
      "text/html": [
       "<div style=\"max-height:1000px;max-width:1500px;overflow:auto;\">\n",
       "<table border=\"1\" class=\"dataframe\">\n",
       "  <thead>\n",
       "    <tr style=\"text-align: right;\">\n",
       "      <th></th>\n",
       "      <th>Developmental stage ID</th>\n",
       "      <th>Developmental stage name</th>\n",
       "      <th>count</th>\n",
       "    </tr>\n",
       "  </thead>\n",
       "  <tbody>\n",
       "    <tr>\n",
       "      <th>0</th>\n",
       "      <td>HsapDv:0000090</td>\n",
       "      <td>25-44 year-old human stage (human)</td>\n",
       "      <td>886385</td>\n",
       "    </tr>\n",
       "    <tr>\n",
       "      <th>1</th>\n",
       "      <td>UBERON:0000104</td>\n",
       "      <td>life cycle</td>\n",
       "      <td>795802</td>\n",
       "    </tr>\n",
       "    <tr>\n",
       "      <th>2</th>\n",
       "      <td>HsapDv:0000092</td>\n",
       "      <td>human middle aged stage (human)</td>\n",
       "      <td>767581</td>\n",
       "    </tr>\n",
       "    <tr>\n",
       "      <th>3</th>\n",
       "      <td>HsapDv:0000094</td>\n",
       "      <td>65-79 year-old human stage (human)</td>\n",
       "      <td>407378</td>\n",
       "    </tr>\n",
       "    <tr>\n",
       "      <th>4</th>\n",
       "      <td>HsapDv:0000087</td>\n",
       "      <td>human adult stage (human)</td>\n",
       "      <td>387225</td>\n",
       "    </tr>\n",
       "    <tr>\n",
       "      <th>5</th>\n",
       "      <td>HsapDv:0000089</td>\n",
       "      <td>young adult stage (human)</td>\n",
       "      <td>383819</td>\n",
       "    </tr>\n",
       "    <tr>\n",
       "      <th>6</th>\n",
       "      <td>HsapDv:0000095</td>\n",
       "      <td>80 year-old and over human stage (human)</td>\n",
       "      <td>160763</td>\n",
       "    </tr>\n",
       "    <tr>\n",
       "      <th>7</th>\n",
       "      <td>HsapDv:0000086</td>\n",
       "      <td>adolescent stage (human)</td>\n",
       "      <td>116353</td>\n",
       "    </tr>\n",
       "    <tr>\n",
       "      <th>8</th>\n",
       "      <td>HsapDv:0000085</td>\n",
       "      <td>6-12 year-old child stage (human)</td>\n",
       "      <td>75387</td>\n",
       "    </tr>\n",
       "    <tr>\n",
       "      <th>9</th>\n",
       "      <td>HsapDv:0000199</td>\n",
       "      <td>fifth LMP month human stage (human)</td>\n",
       "      <td>74310</td>\n",
       "    </tr>\n",
       "    <tr>\n",
       "      <th>10</th>\n",
       "      <td>HsapDv:0000083</td>\n",
       "      <td>infant stage (human)</td>\n",
       "      <td>71678</td>\n",
       "    </tr>\n",
       "    <tr>\n",
       "      <th>11</th>\n",
       "      <td>UBERON:0000113</td>\n",
       "      <td>post-juvenile adult stage</td>\n",
       "      <td>69376</td>\n",
       "    </tr>\n",
       "  </tbody>\n",
       "</table>\n",
       "</div>"
      ],
      "text/plain": [
       "   Developmental stage ID                  Developmental stage name   count\n",
       "0          HsapDv:0000090        25-44 year-old human stage (human)  886385\n",
       "1          UBERON:0000104                                life cycle  795802\n",
       "2          HsapDv:0000092           human middle aged stage (human)  767581\n",
       "3          HsapDv:0000094        65-79 year-old human stage (human)  407378\n",
       "4          HsapDv:0000087                 human adult stage (human)  387225\n",
       "5          HsapDv:0000089                 young adult stage (human)  383819\n",
       "6          HsapDv:0000095  80 year-old and over human stage (human)  160763\n",
       "7          HsapDv:0000086                  adolescent stage (human)  116353\n",
       "8          HsapDv:0000085         6-12 year-old child stage (human)   75387\n",
       "9          HsapDv:0000199       fifth LMP month human stage (human)   74310\n",
       "10         HsapDv:0000083                      infant stage (human)   71678\n",
       "11         UBERON:0000113                 post-juvenile adult stage   69376"
      ]
     },
     "execution_count": 5,
     "metadata": {},
     "output_type": "execute_result"
    }
   ],
   "source": [
    "# Find genes present per developmental stage\n",
    "stage_df = get_groupby_counts(present_df, ['Developmental stage ID', 'Developmental stage name'])\n",
    "stage_df.head(12)"
   ]
  },
  {
   "cell_type": "code",
   "execution_count": 6,
   "metadata": {
    "collapsed": false
   },
   "outputs": [
    {
     "data": {
      "text/html": [
       "<div style=\"max-height:1000px;max-width:1500px;overflow:auto;\">\n",
       "<table border=\"1\" class=\"dataframe\">\n",
       "  <thead>\n",
       "    <tr style=\"text-align: right;\">\n",
       "      <th></th>\n",
       "      <th>Anatomical entity ID</th>\n",
       "      <th>Anatomical entity name</th>\n",
       "      <th>count</th>\n",
       "    </tr>\n",
       "  </thead>\n",
       "  <tbody>\n",
       "    <tr>\n",
       "      <th>0</th>\n",
       "      <td>UBERON:0000473</td>\n",
       "      <td>testis</td>\n",
       "      <td>144453</td>\n",
       "    </tr>\n",
       "    <tr>\n",
       "      <th>1</th>\n",
       "      <td>UBERON:0000955</td>\n",
       "      <td>brain</td>\n",
       "      <td>114977</td>\n",
       "    </tr>\n",
       "    <tr>\n",
       "      <th>2</th>\n",
       "      <td>UBERON:0001870</td>\n",
       "      <td>frontal cortex</td>\n",
       "      <td>110212</td>\n",
       "    </tr>\n",
       "    <tr>\n",
       "      <th>3</th>\n",
       "      <td>UBERON:0000178</td>\n",
       "      <td>blood</td>\n",
       "      <td>104919</td>\n",
       "    </tr>\n",
       "    <tr>\n",
       "      <th>4</th>\n",
       "      <td>UBERON:0002107</td>\n",
       "      <td>liver</td>\n",
       "      <td>97331</td>\n",
       "    </tr>\n",
       "    <tr>\n",
       "      <th>5</th>\n",
       "      <td>UBERON:0002037</td>\n",
       "      <td>cerebellum</td>\n",
       "      <td>92622</td>\n",
       "    </tr>\n",
       "    <tr>\n",
       "      <th>6</th>\n",
       "      <td>UBERON:0000992</td>\n",
       "      <td>female gonad</td>\n",
       "      <td>88936</td>\n",
       "    </tr>\n",
       "    <tr>\n",
       "      <th>7</th>\n",
       "      <td>UBERON:0001987</td>\n",
       "      <td>placenta</td>\n",
       "      <td>83013</td>\n",
       "    </tr>\n",
       "    <tr>\n",
       "      <th>8</th>\n",
       "      <td>UBERON:0009834</td>\n",
       "      <td>dorsolateral prefrontal cortex</td>\n",
       "      <td>82020</td>\n",
       "    </tr>\n",
       "    <tr>\n",
       "      <th>9</th>\n",
       "      <td>UBERON:0002048</td>\n",
       "      <td>lung</td>\n",
       "      <td>70698</td>\n",
       "    </tr>\n",
       "  </tbody>\n",
       "</table>\n",
       "</div>"
      ],
      "text/plain": [
       "  Anatomical entity ID          Anatomical entity name   count\n",
       "0       UBERON:0000473                          testis  144453\n",
       "1       UBERON:0000955                           brain  114977\n",
       "2       UBERON:0001870                  frontal cortex  110212\n",
       "3       UBERON:0000178                           blood  104919\n",
       "4       UBERON:0002107                           liver   97331\n",
       "5       UBERON:0002037                      cerebellum   92622\n",
       "6       UBERON:0000992                    female gonad   88936\n",
       "7       UBERON:0001987                        placenta   83013\n",
       "8       UBERON:0009834  dorsolateral prefrontal cortex   82020\n",
       "9       UBERON:0002048                            lung   70698"
      ]
     },
     "execution_count": 6,
     "metadata": {},
     "output_type": "execute_result"
    }
   ],
   "source": [
    "# Find genes present per anatomical entity\n",
    "anatomy_df = get_groupby_counts(present_df, ['Anatomical entity ID', 'Anatomical entity name'])\n",
    "anatomy_df.head(10)"
   ]
  },
  {
   "cell_type": "markdown",
   "metadata": {},
   "source": [
    "### Figure 1: Number of genes present by developmental stage and anatomical entity"
   ]
  },
  {
   "cell_type": "code",
   "execution_count": 7,
   "metadata": {
    "collapsed": false,
    "scrolled": true
   },
   "outputs": [
    {
     "data": {
      "image/png": "[encoded data removed]",
      "text/plain": [
       "<matplotlib.figure.Figure at 0x7f49bc865f28>"
      ]
     },
     "metadata": {},
     "output_type": "display_data"
    }
   ],
   "source": [
    "# Number of present genes per development stage -- anatomical entity pair\n",
    "pairwise_df = get_groupby_counts(present_df, ['Developmental stage name', 'Anatomical entity name'])\n",
    "rect_df = pairwise_df.pivot('Developmental stage name', 'Anatomical entity name', 'count').fillna(0)\n",
    "rect_df = rect_df.loc[stage_df['Developmental stage name'][:12], anatomy_df['Anatomical entity name'][:40]]\n",
    "IPython.core.pylabtools.figsize(12, 3.2)\n",
    "seaborn.heatmap(rect_df);"
   ]
  },
  {
   "cell_type": "markdown",
   "metadata": {},
   "source": [
    "## Read and process differential expression data"
   ]
  },
  {
   "cell_type": "code",
   "execution_count": 18,
   "metadata": {
    "collapsed": false
   },
   "outputs": [
    {
     "data": {
      "text/html": [
       "<div style=\"max-height:1000px;max-width:1500px;overflow:auto;\">\n",
       "<table border=\"1\" class=\"dataframe\">\n",
       "  <thead>\n",
       "    <tr style=\"text-align: right;\">\n",
       "      <th></th>\n",
       "      <th>Gene ID</th>\n",
       "      <th>Gene name</th>\n",
       "      <th>Anatomical entity ID</th>\n",
       "      <th>Anatomical entity name</th>\n",
       "      <th>Developmental stage ID</th>\n",
       "      <th>Developmental stage name</th>\n",
       "      <th>Differential expression</th>\n",
       "      <th>Call quality</th>\n",
       "    </tr>\n",
       "  </thead>\n",
       "  <tbody>\n",
       "    <tr>\n",
       "      <th>0</th>\n",
       "      <td>ENSG00000000003</td>\n",
       "      <td>TSPAN6</td>\n",
       "      <td>CL:0000015</td>\n",
       "      <td>male germ cell</td>\n",
       "      <td>UBERON:0000113</td>\n",
       "      <td>post-juvenile adult stage</td>\n",
       "      <td>over-expression</td>\n",
       "      <td>low quality</td>\n",
       "    </tr>\n",
       "    <tr>\n",
       "      <th>1</th>\n",
       "      <td>ENSG00000000003</td>\n",
       "      <td>TSPAN6</td>\n",
       "      <td>CL:0000738</td>\n",
       "      <td>leukocyte</td>\n",
       "      <td>UBERON:0000113</td>\n",
       "      <td>post-juvenile adult stage</td>\n",
       "      <td>under-expression</td>\n",
       "      <td>high quality</td>\n",
       "    </tr>\n",
       "    <tr>\n",
       "      <th>2</th>\n",
       "      <td>ENSG00000000003</td>\n",
       "      <td>TSPAN6</td>\n",
       "      <td>UBERON:0000002</td>\n",
       "      <td>uterine cervix</td>\n",
       "      <td>UBERON:0000113</td>\n",
       "      <td>post-juvenile adult stage</td>\n",
       "      <td>over-expression</td>\n",
       "      <td>high quality</td>\n",
       "    </tr>\n",
       "    <tr>\n",
       "      <th>3</th>\n",
       "      <td>ENSG00000000003</td>\n",
       "      <td>TSPAN6</td>\n",
       "      <td>UBERON:0000007</td>\n",
       "      <td>pituitary gland</td>\n",
       "      <td>UBERON:0000113</td>\n",
       "      <td>post-juvenile adult stage</td>\n",
       "      <td>over-expression</td>\n",
       "      <td>high quality</td>\n",
       "    </tr>\n",
       "    <tr>\n",
       "      <th>4</th>\n",
       "      <td>ENSG00000000003</td>\n",
       "      <td>TSPAN6</td>\n",
       "      <td>UBERON:0000029</td>\n",
       "      <td>lymph node</td>\n",
       "      <td>UBERON:0000113</td>\n",
       "      <td>post-juvenile adult stage</td>\n",
       "      <td>under-expression</td>\n",
       "      <td>high quality</td>\n",
       "    </tr>\n",
       "  </tbody>\n",
       "</table>\n",
       "</div>"
      ],
      "text/plain": [
       "           Gene ID Gene name Anatomical entity ID Anatomical entity name  \\\n",
       "0  ENSG00000000003    TSPAN6           CL:0000015         male germ cell   \n",
       "1  ENSG00000000003    TSPAN6           CL:0000738              leukocyte   \n",
       "2  ENSG00000000003    TSPAN6       UBERON:0000002         uterine cervix   \n",
       "3  ENSG00000000003    TSPAN6       UBERON:0000007        pituitary gland   \n",
       "4  ENSG00000000003    TSPAN6       UBERON:0000029             lymph node   \n",
       "\n",
       "  Developmental stage ID   Developmental stage name Differential expression  \\\n",
       "0         UBERON:0000113  post-juvenile adult stage         over-expression   \n",
       "1         UBERON:0000113  post-juvenile adult stage        under-expression   \n",
       "2         UBERON:0000113  post-juvenile adult stage         over-expression   \n",
       "3         UBERON:0000113  post-juvenile adult stage         over-expression   \n",
       "4         UBERON:0000113  post-juvenile adult stage        under-expression   \n",
       "\n",
       "   Call quality  \n",
       "0   low quality  \n",
       "1  high quality  \n",
       "2  high quality  \n",
       "3  high quality  \n",
       "4  high quality  "
      ]
     },
     "execution_count": 18,
     "metadata": {},
     "output_type": "execute_result"
    }
   ],
   "source": [
    "# Read simple differential expression by anatomy\n",
    "diffex_df = pandas.read_table('download/Homo_sapiens_diffexpr-anatomy-simple.tsv.gz', compression='gzip')\n",
    "diffex_df.head()"
   ]
  },
  {
   "cell_type": "code",
   "execution_count": 20,
   "metadata": {
    "collapsed": false
   },
   "outputs": [],
   "source": [
    "# filter differential expression\n",
    "diffex_df = diffex_df[\n",
    "    diffex_df['Differential expression'].isin({'over-expression', 'under-expression'}) &\n",
    "    diffex_df['Call quality'].isin({'low quality', 'high quality'})\n",
    "]"
   ]
  },
  {
   "cell_type": "code",
   "execution_count": 21,
   "metadata": {
    "collapsed": false
   },
   "outputs": [
    {
     "data": {
      "text/html": [
       "<div style=\"max-height:1000px;max-width:1500px;overflow:auto;\">\n",
       "<table border=\"1\" class=\"dataframe\">\n",
       "  <thead>\n",
       "    <tr style=\"text-align: right;\">\n",
       "      <th></th>\n",
       "      <th>Anatomical entity ID</th>\n",
       "      <th>Anatomical entity name</th>\n",
       "      <th>Differential expression</th>\n",
       "      <th>count</th>\n",
       "    </tr>\n",
       "  </thead>\n",
       "  <tbody>\n",
       "    <tr>\n",
       "      <th>0</th>\n",
       "      <td>CL:0000738</td>\n",
       "      <td>leukocyte</td>\n",
       "      <td>under-expression</td>\n",
       "      <td>12406</td>\n",
       "    </tr>\n",
       "    <tr>\n",
       "      <th>1</th>\n",
       "      <td>UBERON:0000473</td>\n",
       "      <td>testis</td>\n",
       "      <td>over-expression</td>\n",
       "      <td>10267</td>\n",
       "    </tr>\n",
       "    <tr>\n",
       "      <th>2</th>\n",
       "      <td>UBERON:0002369</td>\n",
       "      <td>adrenal gland</td>\n",
       "      <td>over-expression</td>\n",
       "      <td>9079</td>\n",
       "    </tr>\n",
       "    <tr>\n",
       "      <th>3</th>\n",
       "      <td>UBERON:0000955</td>\n",
       "      <td>brain</td>\n",
       "      <td>over-expression</td>\n",
       "      <td>8485</td>\n",
       "    </tr>\n",
       "    <tr>\n",
       "      <th>4</th>\n",
       "      <td>UBERON:0002369</td>\n",
       "      <td>adrenal gland</td>\n",
       "      <td>under-expression</td>\n",
       "      <td>7989</td>\n",
       "    </tr>\n",
       "  </tbody>\n",
       "</table>\n",
       "</div>"
      ],
      "text/plain": [
       "  Anatomical entity ID Anatomical entity name Differential expression  count\n",
       "0           CL:0000738              leukocyte        under-expression  12406\n",
       "1       UBERON:0000473                 testis         over-expression  10267\n",
       "2       UBERON:0002369          adrenal gland         over-expression   9079\n",
       "3       UBERON:0000955                  brain         over-expression   8485\n",
       "4       UBERON:0002369          adrenal gland        under-expression   7989"
      ]
     },
     "execution_count": 21,
     "metadata": {},
     "output_type": "execute_result"
    }
   ],
   "source": [
    "# Calculate counts per anatomy--DE pair\n",
    "de_anatomy_df = get_groupby_counts(diffex_df, ['Anatomical entity ID', 'Anatomical entity name', 'Differential expression'])\n",
    "de_anatomy_df.head()"
   ]
  },
  {
   "cell_type": "markdown",
   "metadata": {},
   "source": [
    "### Figure 2: Number of differntially expressed genes present by anatomical entity"
   ]
  },
  {
   "cell_type": "code",
   "execution_count": 29,
   "metadata": {
    "collapsed": false,
    "scrolled": false
   },
   "outputs": [
    {
     "data": {
      "image/png": "[encoded data removed]",
      "text/plain": [
       "<matplotlib.figure.Figure at 0x7f49bbcd7ac8>"
      ]
     },
     "metadata": {},
     "output_type": "display_data"
    }
   ],
   "source": [
    "# Plot DE counts\n",
    "rect_df = de_anatomy_df.pivot('Anatomical entity name', 'Differential expression', 'count').fillna(0)\n",
    "rect_df['differential expression'] = rect_df['under-expression'] + rect_df['over-expression']\n",
    "rect_df = rect_df.sort('differential expression', ascending=False)\n",
    "IPython.core.pylabtools.figsize(1, 16)\n",
    "cmap = seaborn.cubehelix_palette(15, start=2.2, rot=1, gamma=1.6, hue=1, light=0.98, dark=0, as_cmap=True)\n",
    "seaborn.heatmap(rect_df.drop('differential expression', axis=1), cmap=cmap);"
   ]
  },
  {
   "cell_type": "markdown",
   "metadata": {},
   "source": [
    "## Conversion from ensembl to entrez gene\n",
    "\n",
    "Not yet implemented"
   ]
  },
  {
   "cell_type": "code",
   "execution_count": 13,
   "metadata": {
    "collapsed": false
   },
   "outputs": [
    {
     "data": {
      "text/html": [
       "<div style=\"max-height:1000px;max-width:1500px;overflow:auto;\">\n",
       "<table border=\"1\" class=\"dataframe\">\n",
       "  <thead>\n",
       "    <tr style=\"text-align: right;\">\n",
       "      <th></th>\n",
       "      <th>GeneID</th>\n",
       "      <th>ensembl_id</th>\n",
       "    </tr>\n",
       "  </thead>\n",
       "  <tbody>\n",
       "    <tr>\n",
       "      <th>2</th>\n",
       "      <td>1</td>\n",
       "      <td>ENSG00000121410</td>\n",
       "    </tr>\n",
       "    <tr>\n",
       "      <th>7</th>\n",
       "      <td>2</td>\n",
       "      <td>ENSG00000175899</td>\n",
       "    </tr>\n",
       "    <tr>\n",
       "      <th>11</th>\n",
       "      <td>3</td>\n",
       "      <td>ENSG00000256069</td>\n",
       "    </tr>\n",
       "    <tr>\n",
       "      <th>14</th>\n",
       "      <td>9</td>\n",
       "      <td>ENSG00000171428</td>\n",
       "    </tr>\n",
       "    <tr>\n",
       "      <th>19</th>\n",
       "      <td>10</td>\n",
       "      <td>ENSG00000156006</td>\n",
       "    </tr>\n",
       "  </tbody>\n",
       "</table>\n",
       "</div>"
      ],
      "text/plain": [
       "    GeneID       ensembl_id\n",
       "2        1  ENSG00000121410\n",
       "7        2  ENSG00000175899\n",
       "11       3  ENSG00000256069\n",
       "14       9  ENSG00000171428\n",
       "19      10  ENSG00000156006"
      ]
     },
     "execution_count": 13,
     "metadata": {},
     "output_type": "execute_result"
    }
   ],
   "source": [
    "# Read Entrez Genes\n",
    "url = 'https://raw.githubusercontent.com/dhimmel/entrez-gene/6e133f9ef8ce51a4c5387e58a6cc97564a66cec8/data/genes-human.tsv'\n",
    "entrez_df = pandas.read_table(url)\n",
    "coding_genes = set(entrez_df.GeneID[entrez_df.type_of_gene == 'protein-coding'])\n",
    "\n",
    "# Merge with entrez gene identifiers\n",
    "url = 'https://raw.githubusercontent.com/dhimmel/entrez-gene/6e133f9ef8ce51a4c5387e58a6cc97564a66cec8/data/xrefs-human.tsv'\n",
    "entrez_map_df = pandas.read_table(url)\n",
    "entrez_map_df = entrez_map_df[entrez_map_df.resource == 'Ensembl']\n",
    "entrez_map_df = entrez_map_df[['GeneID', 'identifier']].rename(columns={'identifier': 'ensembl_id'})\n",
    "entrez_map_df.head()"
   ]
  },
  {
   "cell_type": "markdown",
   "metadata": {},
   "source": [
    "## GNF Expression Atlas (BodyMap) expression counts\n",
    "\n",
    "Show the presence counts per tissue we observed in the [GNF Expression Atlas](https://dx.doi.org/10.1073/pnas.0400782101) data."
   ]
  },
  {
   "cell_type": "code",
   "execution_count": 14,
   "metadata": {
    "collapsed": false
   },
   "outputs": [],
   "source": [
    "import gzip\n",
    "import io\n",
    "import requests\n",
    "import numpy\n",
    "\n",
    "# Read BTO id and names\n",
    "url = 'https://gist.githubusercontent.com/dhimmel/1f252b674c0c75443cc1/raw/a97c3425792f2288b0369de70e1b46018832455b/bto-terms-in-gnf.tsv'\n",
    "bto_df = pandas.read_table(url)\n",
    "\n",
    "# Read expression\n",
    "url = 'http://het.io/disease-genes/downloads/files/expression.txt.gz'\n",
    "with gzip.open(io.BytesIO(requests.get(url).content)) as read_file:\n",
    "    gnf_df = pandas.read_table(read_file)\n",
    "gnf_df = numpy.log10(gnf_df)"
   ]
  },
  {
   "cell_type": "code",
   "execution_count": 15,
   "metadata": {
    "collapsed": false
   },
   "outputs": [
    {
     "data": {
      "text/html": [
       "<div style=\"max-height:1000px;max-width:1500px;overflow:auto;\">\n",
       "<table border=\"1\" class=\"dataframe\">\n",
       "  <thead>\n",
       "    <tr style=\"text-align: right;\">\n",
       "      <th></th>\n",
       "      <th>bto_id</th>\n",
       "      <th>bto_name</th>\n",
       "      <th>cell_line</th>\n",
       "      <th>count</th>\n",
       "    </tr>\n",
       "  </thead>\n",
       "  <tbody>\n",
       "    <tr>\n",
       "      <th>72</th>\n",
       "      <td>BTO:0003335</td>\n",
       "      <td>EBV-LCL cell</td>\n",
       "      <td>1</td>\n",
       "      <td>5138</td>\n",
       "    </tr>\n",
       "    <tr>\n",
       "      <th>19</th>\n",
       "      <td>BTO:0000725</td>\n",
       "      <td>hematopoietic stem cell</td>\n",
       "      <td>0</td>\n",
       "      <td>4996</td>\n",
       "    </tr>\n",
       "    <tr>\n",
       "      <th>28</th>\n",
       "      <td>BTO:0000914</td>\n",
       "      <td>natural killer cell</td>\n",
       "      <td>0</td>\n",
       "      <td>4883</td>\n",
       "    </tr>\n",
       "    <tr>\n",
       "      <th>75</th>\n",
       "      <td>BTO:0004730</td>\n",
       "      <td>myeloid progenitor cell</td>\n",
       "      <td>0</td>\n",
       "      <td>4823</td>\n",
       "    </tr>\n",
       "    <tr>\n",
       "      <th>36</th>\n",
       "      <td>BTO:0001067</td>\n",
       "      <td>pineal gland</td>\n",
       "      <td>0</td>\n",
       "      <td>4799</td>\n",
       "    </tr>\n",
       "    <tr>\n",
       "      <th>65</th>\n",
       "      <td>BTO:0002042</td>\n",
       "      <td>dendritic cell</td>\n",
       "      <td>0</td>\n",
       "      <td>4782</td>\n",
       "    </tr>\n",
       "    <tr>\n",
       "      <th>43</th>\n",
       "      <td>BTO:0001175</td>\n",
       "      <td>retina</td>\n",
       "      <td>0</td>\n",
       "      <td>4631</td>\n",
       "    </tr>\n",
       "    <tr>\n",
       "      <th>70</th>\n",
       "      <td>BTO:0002807</td>\n",
       "      <td>prefrontal cortex</td>\n",
       "      <td>0</td>\n",
       "      <td>4566</td>\n",
       "    </tr>\n",
       "    <tr>\n",
       "      <th>58</th>\n",
       "      <td>BTO:0001379</td>\n",
       "      <td>thyroid gland</td>\n",
       "      <td>0</td>\n",
       "      <td>4534</td>\n",
       "    </tr>\n",
       "    <tr>\n",
       "      <th>24</th>\n",
       "      <td>BTO:0000776</td>\n",
       "      <td>B-lymphocyte</td>\n",
       "      <td>0</td>\n",
       "      <td>4415</td>\n",
       "    </tr>\n",
       "    <tr>\n",
       "      <th>27</th>\n",
       "      <td>BTO:0000876</td>\n",
       "      <td>monocyte</td>\n",
       "      <td>0</td>\n",
       "      <td>4408</td>\n",
       "    </tr>\n",
       "    <tr>\n",
       "      <th>69</th>\n",
       "      <td>BTO:0002417</td>\n",
       "      <td>helper T-lymphocyte</td>\n",
       "      <td>0</td>\n",
       "      <td>4347</td>\n",
       "    </tr>\n",
       "    <tr>\n",
       "      <th>11</th>\n",
       "      <td>BTO:0000289</td>\n",
       "      <td>cytotoxic T-lymphocyte</td>\n",
       "      <td>0</td>\n",
       "      <td>4298</td>\n",
       "    </tr>\n",
       "    <tr>\n",
       "      <th>44</th>\n",
       "      <td>BTO:0001176</td>\n",
       "      <td>endothelial cell</td>\n",
       "      <td>0</td>\n",
       "      <td>4244</td>\n",
       "    </tr>\n",
       "    <tr>\n",
       "      <th>5</th>\n",
       "      <td>BTO:0000089</td>\n",
       "      <td>blood</td>\n",
       "      <td>0</td>\n",
       "      <td>4242</td>\n",
       "    </tr>\n",
       "  </tbody>\n",
       "</table>\n",
       "</div>"
      ],
      "text/plain": [
       "         bto_id                 bto_name  cell_line  count\n",
       "72  BTO:0003335             EBV-LCL cell          1   5138\n",
       "19  BTO:0000725  hematopoietic stem cell          0   4996\n",
       "28  BTO:0000914      natural killer cell          0   4883\n",
       "75  BTO:0004730  myeloid progenitor cell          0   4823\n",
       "36  BTO:0001067             pineal gland          0   4799\n",
       "65  BTO:0002042           dendritic cell          0   4782\n",
       "43  BTO:0001175                   retina          0   4631\n",
       "70  BTO:0002807        prefrontal cortex          0   4566\n",
       "58  BTO:0001379            thyroid gland          0   4534\n",
       "24  BTO:0000776             B-lymphocyte          0   4415\n",
       "27  BTO:0000876                 monocyte          0   4408\n",
       "69  BTO:0002417      helper T-lymphocyte          0   4347\n",
       "11  BTO:0000289   cytotoxic T-lymphocyte          0   4298\n",
       "44  BTO:0001176         endothelial cell          0   4244\n",
       "5   BTO:0000089                    blood          0   4242"
      ]
     },
     "execution_count": 15,
     "metadata": {},
     "output_type": "execute_result"
    }
   ],
   "source": [
    "# Compute expressed genes per tissue\n",
    "gnf_summary_df = (gnf_df >= 1.4).sum().reset_index()\n",
    "gnf_summary_df.columns = ['bto_id', 'count']\n",
    "gnf_summary_df = bto_df.merge(gnf_summary_df, how='right')\n",
    "gnf_summary_df = gnf_summary_df.sort('count', ascending=False)\n",
    "gnf_summary_df.head(15)"
   ]
  },
  {
   "cell_type": "markdown",
   "metadata": {},
   "source": [
    "### Figure 3: Distibution of genes present per tissue in GNF Expression Atlas"
   ]
  },
  {
   "cell_type": "code",
   "execution_count": 16,
   "metadata": {
    "collapsed": false
   },
   "outputs": [
    {
     "data": {
      "image/png": "[encoded data removed]",
      "text/plain": [
       "<matplotlib.figure.Figure at 0x7f49e86dcf28>"
      ]
     },
     "metadata": {},
     "output_type": "display_data"
    }
   ],
   "source": [
    "# Plot distribution of expressed genes per tissue\n",
    "IPython.core.pylabtools.figsize(5, 2)\n",
    "plt.hist(gnf_summary_df['count'], 15);"
   ]
  },
  {
   "cell_type": "code",
   "execution_count": null,
   "metadata": {
    "collapsed": true
   },
   "outputs": [],
   "source": []
  }
 ],
 "metadata": {
  "kernelspec": {
   "display_name": "Python 3",
   "language": "python",
   "name": "python3"
  },
  "language_info": {
   "codemirror_mode": {
    "name": "ipython",
    "version": 3
   },
   "file_extension": ".py",
   "mimetype": "text/x-python",
   "name": "python",
   "nbconvert_exporter": "python",
   "pygments_lexer": "ipython3",
   "version": "3.4.3"
  }
 },
 "nbformat": 4,
 "nbformat_minor": 0
}
