{
 "cells": [
  {
   "cell_type": "markdown",
   "metadata": {},
   "source": [
    "# Bgee\n",
    "\n",
    "Extracting data from [Bgee](http://bgee.org/). See [this Thinklab discussion](http://thinklab.com/discussion/tissue-specific-gene-expression-resources/81#278) for more information."
   ]
  },
  {
   "cell_type": "code",
   "execution_count": 1,
   "metadata": {
    "collapsed": true
   },
   "outputs": [],
   "source": [
    "import collections\n",
    "import gzip\n",
    "\n",
    "import pandas\n",
    "import seaborn\n",
    "import numpy\n",
    "import matplotlib.pyplot as plt\n",
    "import IPython\n",
    "\n",
    "%matplotlib inline"
   ]
  },
  {
   "cell_type": "code",
   "execution_count": 2,
   "metadata": {
    "collapsed": true
   },
   "outputs": [],
   "source": [
    "def get_groupby_counts(df, columns):\n",
    "    \"\"\"Group datagrame by columns and return the number of rows for each grouping.\"\"\"\n",
    "    grouped = df.groupby(columns)\n",
    "    get_len = lambda df: pandas.Series({'count': len(df)})\n",
    "    df = grouped.apply(get_len)\n",
    "    df = df.sort_values('count', ascending=False)\n",
    "    df = df.reset_index()\n",
    "    return df"
   ]
  },
  {
   "cell_type": "markdown",
   "metadata": {},
   "source": [
    "## Load entrez gene for ensembl conversion"
   ]
  },
  {
   "cell_type": "code",
   "execution_count": 3,
   "metadata": {
    "collapsed": false
   },
   "outputs": [],
   "source": [
    "# Read Entrez Genes\n",
    "url = 'https://raw.githubusercontent.com/dhimmel/entrez-gene/5352b31e04ec136e99d25a0ba63e8867aa71b69f/data/genes-human.tsv'\n",
    "entrez_df = pandas.read_table(url)\n",
    "coding_genes = set(entrez_df.GeneID[entrez_df.type_of_gene == 'protein-coding'])\n",
    "\n",
    "# Merge with entrez gene identifiers\n",
    "url = 'https://raw.githubusercontent.com/dhimmel/entrez-gene/5352b31e04ec136e99d25a0ba63e8867aa71b69f/data/xrefs-human.tsv'\n",
    "entrez_map_df = pandas.read_table(url)    \n",
    "entrez_map_df = entrez_map_df[entrez_map_df.resource == 'Ensembl']\n",
    "\n",
    "ensembl_to_entrez = dict(zip(entrez_map_df.identifier, entrez_map_df.GeneID))"
   ]
  },
  {
   "cell_type": "markdown",
   "metadata": {},
   "source": [
    "## Load adult developmental stages"
   ]
  },
  {
   "cell_type": "code",
   "execution_count": 4,
   "metadata": {
    "collapsed": false
   },
   "outputs": [
    {
     "data": {
      "text/plain": [
       "70"
      ]
     },
     "execution_count": 4,
     "metadata": {},
     "output_type": "execute_result"
    }
   ],
   "source": [
    "stage_df = pandas.read_table('data/stages.tsv')\n",
    "stage_df = stage_df.query(\"is_adult == 1\")\n",
    "adult_stages = set(stage_df.stage_id)\n",
    "len(adult_stages)"
   ]
  },
  {
   "cell_type": "markdown",
   "metadata": {},
   "source": [
    "## Read and process presence of expression data"
   ]
  },
  {
   "cell_type": "code",
   "execution_count": 5,
   "metadata": {
    "collapsed": false
   },
   "outputs": [
    {
     "data": {
      "text/html": [
       "<div>\n",
       "<table border=\"1\" class=\"dataframe\">\n",
       "  <thead>\n",
       "    <tr style=\"text-align: right;\">\n",
       "      <th></th>\n",
       "      <th>Gene ID</th>\n",
       "      <th>Gene name</th>\n",
       "      <th>Anatomical entity ID</th>\n",
       "      <th>Anatomical entity name</th>\n",
       "      <th>Developmental stage ID</th>\n",
       "      <th>Developmental stage name</th>\n",
       "      <th>Expression</th>\n",
       "      <th>Call quality</th>\n",
       "    </tr>\n",
       "  </thead>\n",
       "  <tbody>\n",
       "    <tr>\n",
       "      <th>0</th>\n",
       "      <td>ENSG00000000003</td>\n",
       "      <td>TSPAN6</td>\n",
       "      <td>CL:0000015</td>\n",
       "      <td>male germ cell</td>\n",
       "      <td>HsapDv:0000092</td>\n",
       "      <td>human middle aged stage (human)</td>\n",
       "      <td>present</td>\n",
       "      <td>poor quality</td>\n",
       "    </tr>\n",
       "    <tr>\n",
       "      <th>1</th>\n",
       "      <td>ENSG00000000003</td>\n",
       "      <td>TSPAN6</td>\n",
       "      <td>CL:0000019</td>\n",
       "      <td>sperm</td>\n",
       "      <td>HsapDv:0000088</td>\n",
       "      <td>human early adulthood stage (human)</td>\n",
       "      <td>present</td>\n",
       "      <td>poor quality</td>\n",
       "    </tr>\n",
       "  </tbody>\n",
       "</table>\n",
       "</div>"
      ],
      "text/plain": [
       "           Gene ID Gene name Anatomical entity ID Anatomical entity name  \\\n",
       "0  ENSG00000000003    TSPAN6           CL:0000015         male germ cell   \n",
       "1  ENSG00000000003    TSPAN6           CL:0000019                  sperm   \n",
       "\n",
       "  Developmental stage ID             Developmental stage name Expression  \\\n",
       "0         HsapDv:0000092      human middle aged stage (human)    present   \n",
       "1         HsapDv:0000088  human early adulthood stage (human)    present   \n",
       "\n",
       "   Call quality  \n",
       "0  poor quality  \n",
       "1  poor quality  "
      ]
     },
     "execution_count": 5,
     "metadata": {},
     "output_type": "execute_result"
    }
   ],
   "source": [
    "# Read expression\n",
    "presence_df = pandas.read_table('download/Homo_sapiens_expr-simple.tsv.gz')\n",
    "presence_df.head(2)"
   ]
  },
  {
   "cell_type": "markdown",
   "metadata": {},
   "source": [
    "### Contingency table (as percents) of `Expression` versus `Call quality`"
   ]
  },
  {
   "cell_type": "code",
   "execution_count": 6,
   "metadata": {
    "collapsed": false
   },
   "outputs": [
    {
     "data": {
      "text/html": [
       "<div>\n",
       "<table border=\"1\" class=\"dataframe\">\n",
       "  <thead>\n",
       "    <tr style=\"text-align: right;\">\n",
       "      <th>Call quality</th>\n",
       "      <th>high quality</th>\n",
       "      <th>poor quality</th>\n",
       "    </tr>\n",
       "    <tr>\n",
       "      <th>Expression</th>\n",
       "      <th></th>\n",
       "      <th></th>\n",
       "    </tr>\n",
       "  </thead>\n",
       "  <tbody>\n",
       "    <tr>\n",
       "      <th>absent</th>\n",
       "      <td>0.416251</td>\n",
       "      <td>0.000000</td>\n",
       "    </tr>\n",
       "    <tr>\n",
       "      <th>present</th>\n",
       "      <td>0.409678</td>\n",
       "      <td>0.161998</td>\n",
       "    </tr>\n",
       "  </tbody>\n",
       "</table>\n",
       "</div>"
      ],
      "text/plain": [
       "Call quality  high quality  poor quality\n",
       "Expression                              \n",
       "absent            0.416251      0.000000\n",
       "present           0.409678      0.161998"
      ]
     },
     "execution_count": 6,
     "metadata": {},
     "output_type": "execute_result"
    }
   ],
   "source": [
    "pandas.crosstab(presence_df['Expression'].fillna('NA'), presence_df['Call quality']) / len(presence_df)"
   ]
  },
  {
   "cell_type": "code",
   "execution_count": 7,
   "metadata": {
    "collapsed": false
   },
   "outputs": [
    {
     "data": {
      "text/html": [
       "<div>\n",
       "<table border=\"1\" class=\"dataframe\">\n",
       "  <thead>\n",
       "    <tr style=\"text-align: right;\">\n",
       "      <th></th>\n",
       "      <th>Gene ID</th>\n",
       "      <th>Anatomical entity ID</th>\n",
       "      <th>Expression</th>\n",
       "    </tr>\n",
       "  </thead>\n",
       "  <tbody>\n",
       "    <tr>\n",
       "      <th>11</th>\n",
       "      <td>ENSG00000000003</td>\n",
       "      <td>CL:0002328</td>\n",
       "      <td>present</td>\n",
       "    </tr>\n",
       "    <tr>\n",
       "      <th>15</th>\n",
       "      <td>ENSG00000000003</td>\n",
       "      <td>CL:0002336</td>\n",
       "      <td>present</td>\n",
       "    </tr>\n",
       "  </tbody>\n",
       "</table>\n",
       "</div>"
      ],
      "text/plain": [
       "            Gene ID Anatomical entity ID Expression\n",
       "11  ENSG00000000003           CL:0002328    present\n",
       "15  ENSG00000000003           CL:0002336    present"
      ]
     },
     "execution_count": 7,
     "metadata": {},
     "output_type": "execute_result"
    }
   ],
   "source": [
    "# Apply filters for gene presence\n",
    "present_df = presence_df[presence_df['Developmental stage ID'].isin(adult_stages)]\n",
    "present_df = present_df[\n",
    "    present_df['Expression'].isin({'present'}) &\n",
    "    present_df['Call quality'].isin({'high quality'})\n",
    "]\n",
    "present_df = present_df[['Gene ID', 'Anatomical entity ID', 'Expression']].drop_duplicates()\n",
    "present_df.head(2)"
   ]
  },
  {
   "cell_type": "code",
   "execution_count": 8,
   "metadata": {
    "collapsed": false
   },
   "outputs": [
    {
     "data": {
      "text/html": [
       "<div>\n",
       "<table border=\"1\" class=\"dataframe\">\n",
       "  <thead>\n",
       "    <tr style=\"text-align: right;\">\n",
       "      <th>Anatomical entity ID</th>\n",
       "      <th>entrez_gene_id</th>\n",
       "      <th>CL:0000015</th>\n",
       "      <th>CL:0000019</th>\n",
       "      <th>CL:0000023</th>\n",
       "      <th>CL:0000115</th>\n",
       "      <th>CL:0000169</th>\n",
       "      <th>CL:0000738</th>\n",
       "      <th>CL:0000842</th>\n",
       "      <th>CL:0002092</th>\n",
       "      <th>CL:0002328</th>\n",
       "      <th>...</th>\n",
       "      <th>UBERON:0008188</th>\n",
       "      <th>UBERON:0009834</th>\n",
       "      <th>UBERON:0009835</th>\n",
       "      <th>UBERON:0010414</th>\n",
       "      <th>UBERON:0011876</th>\n",
       "      <th>UBERON:0013540</th>\n",
       "      <th>UBERON:0013541</th>\n",
       "      <th>UBERON:0013554</th>\n",
       "      <th>UBERON:0014892</th>\n",
       "      <th>UBERON:0016525</th>\n",
       "    </tr>\n",
       "  </thead>\n",
       "  <tbody>\n",
       "    <tr>\n",
       "      <th>18960</th>\n",
       "      <td>105379030</td>\n",
       "      <td>0</td>\n",
       "      <td>0</td>\n",
       "      <td>0</td>\n",
       "      <td>0</td>\n",
       "      <td>0</td>\n",
       "      <td>0</td>\n",
       "      <td>0</td>\n",
       "      <td>0</td>\n",
       "      <td>0</td>\n",
       "      <td>...</td>\n",
       "      <td>0</td>\n",
       "      <td>0</td>\n",
       "      <td>0</td>\n",
       "      <td>0</td>\n",
       "      <td>0</td>\n",
       "      <td>0</td>\n",
       "      <td>0</td>\n",
       "      <td>0</td>\n",
       "      <td>0</td>\n",
       "      <td>0</td>\n",
       "    </tr>\n",
       "    <tr>\n",
       "      <th>18961</th>\n",
       "      <td>105379175</td>\n",
       "      <td>0</td>\n",
       "      <td>0</td>\n",
       "      <td>0</td>\n",
       "      <td>0</td>\n",
       "      <td>0</td>\n",
       "      <td>0</td>\n",
       "      <td>0</td>\n",
       "      <td>0</td>\n",
       "      <td>0</td>\n",
       "      <td>...</td>\n",
       "      <td>0</td>\n",
       "      <td>0</td>\n",
       "      <td>0</td>\n",
       "      <td>0</td>\n",
       "      <td>0</td>\n",
       "      <td>0</td>\n",
       "      <td>0</td>\n",
       "      <td>0</td>\n",
       "      <td>0</td>\n",
       "      <td>0</td>\n",
       "    </tr>\n",
       "  </tbody>\n",
       "</table>\n",
       "<p>2 rows × 189 columns</p>\n",
       "</div>"
      ],
      "text/plain": [
       "Anatomical entity ID  entrez_gene_id  CL:0000015  CL:0000019  CL:0000023  \\\n",
       "18960                      105379030           0           0           0   \n",
       "18961                      105379175           0           0           0   \n",
       "\n",
       "Anatomical entity ID  CL:0000115  CL:0000169  CL:0000738  CL:0000842  \\\n",
       "18960                          0           0           0           0   \n",
       "18961                          0           0           0           0   \n",
       "\n",
       "Anatomical entity ID  CL:0002092  CL:0002328       ...        UBERON:0008188  \\\n",
       "18960                          0           0       ...                     0   \n",
       "18961                          0           0       ...                     0   \n",
       "\n",
       "Anatomical entity ID  UBERON:0009834  UBERON:0009835  UBERON:0010414  \\\n",
       "18960                              0               0               0   \n",
       "18961                              0               0               0   \n",
       "\n",
       "Anatomical entity ID  UBERON:0011876  UBERON:0013540  UBERON:0013541  \\\n",
       "18960                              0               0               0   \n",
       "18961                              0               0               0   \n",
       "\n",
       "Anatomical entity ID  UBERON:0013554  UBERON:0014892  UBERON:0016525  \n",
       "18960                              0               0               0  \n",
       "18961                              0               0               0  \n",
       "\n",
       "[2 rows x 189 columns]"
      ]
     },
     "execution_count": 8,
     "metadata": {},
     "output_type": "execute_result"
    }
   ],
   "source": [
    "# filter to human adult stage (human)\n",
    "pivoted_df = present_df.pivot('Gene ID', 'Anatomical entity ID', 'Expression')\n",
    "pivoted_df = (pivoted_df == 'present').astype(int)\n",
    "\n",
    "# convert to entrez GeneIDs\n",
    "pivoted_df = pivoted_df.groupby(ensembl_to_entrez).max()\n",
    "pivoted_df.index.name = 'entrez_gene_id'\n",
    "pivoted_df = pivoted_df.reset_index()\n",
    "pivoted_df.entrez_gene_id = pivoted_df.entrez_gene_id.astype(int)\n",
    "\n",
    "# save dataframe\n",
    "with gzip.open('data/present-in-adult.tsv.gz', 'wt') as write_file:\n",
    "    pivoted_df.to_csv(write_file, sep='\\t', index=False)\n",
    "\n",
    "# see tail\n",
    "pivoted_df.tail(2)"
   ]
  },
  {
   "cell_type": "code",
   "execution_count": 9,
   "metadata": {
    "collapsed": false
   },
   "outputs": [
    {
     "data": {
      "text/plain": [
       "16257"
      ]
     },
     "execution_count": 9,
     "metadata": {},
     "output_type": "execute_result"
    }
   ],
   "source": [
    "# Coding genes in entrez dataset\n",
    "len(set(pivoted_df.entrez_gene_id) & coding_genes)"
   ]
  },
  {
   "cell_type": "code",
   "execution_count": 10,
   "metadata": {
    "collapsed": false
   },
   "outputs": [
    {
     "data": {
      "text/plain": [
       "0.32278667076594397"
      ]
     },
     "execution_count": 10,
     "metadata": {},
     "output_type": "execute_result"
    }
   ],
   "source": [
    "# Frequency of gene presence \n",
    "pivoted_df.drop('entrez_gene_id', 1).as_matrix().mean()"
   ]
  },
  {
   "cell_type": "code",
   "execution_count": 11,
   "metadata": {
    "collapsed": false
   },
   "outputs": [
    {
     "data": {
      "text/plain": [
       "1150688"
      ]
     },
     "execution_count": 11,
     "metadata": {},
     "output_type": "execute_result"
    }
   ],
   "source": [
    "# Total number of anatomy-gene presence edges\n",
    "pivoted_df.drop('entrez_gene_id', 1).as_matrix().sum()"
   ]
  },
  {
   "cell_type": "code",
   "execution_count": 12,
   "metadata": {
    "collapsed": false
   },
   "outputs": [
    {
     "data": {
      "image/png": "[encoded data removed]",
      "text/plain": [
       "<matplotlib.figure.Figure at 0x7f4ba7f49390>"
      ]
     },
     "metadata": {},
     "output_type": "display_data"
    }
   ],
   "source": [
    "# Number of genes present per tissue\n",
    "ax = pivoted_df.drop('entrez_gene_id', 1).sum().hist(bins=30)"
   ]
  },
  {
   "cell_type": "markdown",
   "metadata": {},
   "source": [
    "## Read and process differential expression data"
   ]
  },
  {
   "cell_type": "code",
   "execution_count": 13,
   "metadata": {
    "collapsed": false
   },
   "outputs": [
    {
     "data": {
      "text/html": [
       "<div>\n",
       "<table border=\"1\" class=\"dataframe\">\n",
       "  <thead>\n",
       "    <tr style=\"text-align: right;\">\n",
       "      <th></th>\n",
       "      <th>Gene ID</th>\n",
       "      <th>Gene name</th>\n",
       "      <th>Anatomical entity ID</th>\n",
       "      <th>Anatomical entity name</th>\n",
       "      <th>Developmental stage ID</th>\n",
       "      <th>Developmental stage name</th>\n",
       "      <th>Differential expression</th>\n",
       "      <th>Call quality</th>\n",
       "    </tr>\n",
       "  </thead>\n",
       "  <tbody>\n",
       "    <tr>\n",
       "      <th>0</th>\n",
       "      <td>ENSG00000000003</td>\n",
       "      <td>TSPAN6</td>\n",
       "      <td>CL:0000015</td>\n",
       "      <td>male germ cell</td>\n",
       "      <td>UBERON:0000113</td>\n",
       "      <td>post-juvenile adult stage</td>\n",
       "      <td>over-expression</td>\n",
       "      <td>low quality</td>\n",
       "    </tr>\n",
       "    <tr>\n",
       "      <th>1</th>\n",
       "      <td>ENSG00000000003</td>\n",
       "      <td>TSPAN6</td>\n",
       "      <td>CL:0000738</td>\n",
       "      <td>leukocyte</td>\n",
       "      <td>UBERON:0000113</td>\n",
       "      <td>post-juvenile adult stage</td>\n",
       "      <td>under-expression</td>\n",
       "      <td>high quality</td>\n",
       "    </tr>\n",
       "  </tbody>\n",
       "</table>\n",
       "</div>"
      ],
      "text/plain": [
       "           Gene ID Gene name Anatomical entity ID Anatomical entity name  \\\n",
       "0  ENSG00000000003    TSPAN6           CL:0000015         male germ cell   \n",
       "1  ENSG00000000003    TSPAN6           CL:0000738              leukocyte   \n",
       "\n",
       "  Developmental stage ID   Developmental stage name Differential expression  \\\n",
       "0         UBERON:0000113  post-juvenile adult stage         over-expression   \n",
       "1         UBERON:0000113  post-juvenile adult stage        under-expression   \n",
       "\n",
       "   Call quality  \n",
       "0   low quality  \n",
       "1  high quality  "
      ]
     },
     "execution_count": 13,
     "metadata": {},
     "output_type": "execute_result"
    }
   ],
   "source": [
    "# Read simple differential expression by anatomy\n",
    "diffex_df = pandas.read_table('download/Homo_sapiens_diffexpr-anatomy-simple.tsv.gz', compression='gzip')\n",
    "diffex_df.head(2)"
   ]
  },
  {
   "cell_type": "markdown",
   "metadata": {},
   "source": [
    "### Contingency table (as percents) of `Differential expression` versus `Call quality`\n",
    "\n",
    "Documentation of `Differential expression` and `Call quality` is [below](http://bgee.org/?page=doc&action=call_files#single_diff_simple_col7):\n",
    "\n",
    "> #### Differential expression (column 7)\n",
    "Call generated from all data types for Gene ID (column 1), in Anatomical entity ID (column 3), at Developmental stage ID (column 5). One of:\n",
    "+ **over-expression**: the gene was shown in one or more analyses to have a significant over-expression in this condition, as compared to the expression levels in other conditions of the analyses.\n",
    "+ **under-expression**: the gene was shown in one or more analyses to have a significant under-expression in this condition, as compared to the expression levels in other conditions of the analyses.\n",
    "+ **weak ambiguity**: there exists a call of over-expression or under-expression generated from a data type, but another data type showed no significant variation of the level of expression of this gene in the same condition; or, a gene was shown to be never expressed in a condition by some analyses of a given data type, but other analyses of different data types produced a call of over-expression or of absence of differential expression for the same gene, in the same condition (note that conflicts where a data type produced an under-expression call in a condition, while another data type showed the same gene to be never expressed in that condition, do not produce a weak ambiguity call, but a call of under-expression low quality).\n",
    "+ **strong ambiguity**: there exists a call of over-expression or under-expression generated from a data type, but there exists a call in the opposite direction generated from another data type for the same gene, anatomical entity and developmental stage. For instance, gene A is reported to be over-expressed in the midbrain at young adult stage from Affymetrix data, but is reported to be under-expressed in the midbrain at young adult stage from RNA-Seq data.\n",
    "\n",
    "> #### Call quality (column 8)\n",
    "Confidence in the differential expression call provided in Differential expression (column 7). One of:\n",
    "+ **high quality**: differential expression reported as high quality, with no contradicting call from same type of analysis (across anatomy/across life stages), for same gene, in same anatomical entity and developmental stage, (call generated either from multiple congruent analyses, or from a single analysis).\n",
    "+ **poor quality**: differential expression reported as low quality, or there exists a conflict for the same gene, anatomical entity and developmental stage, from different analyses of a same data type (conflicts between different data types are treated differently). For instance, an analysis showed a gene to be over-expressed in a condition, while another analysis showed the same gene to be under-expressed or not differentially expressed in the same condition. Such conflicts are resolved by a voting system based on the number of conditions compared, weighted by p-value. Note that in one case, this quality level is used to reconcile conflicting calls from different data types: when a data type produced an under-expression call, while a different data type has shown that the same gene was never seen as expressed in the same condition. In that case, the overall summary is under-expression low quality.\n",
    "+ **NA**: no quality applicable when ambiguity state in Differential expression (column 7)."
   ]
  },
  {
   "cell_type": "code",
   "execution_count": 14,
   "metadata": {
    "collapsed": false
   },
   "outputs": [
    {
     "data": {
      "text/html": [
       "<div>\n",
       "<table border=\"1\" class=\"dataframe\">\n",
       "  <thead>\n",
       "    <tr style=\"text-align: right;\">\n",
       "      <th>Differential expression</th>\n",
       "      <th>high ambiguity</th>\n",
       "      <th>low ambiguity</th>\n",
       "      <th>over-expression</th>\n",
       "      <th>under-expression</th>\n",
       "    </tr>\n",
       "    <tr>\n",
       "      <th>Call quality</th>\n",
       "      <th></th>\n",
       "      <th></th>\n",
       "      <th></th>\n",
       "      <th></th>\n",
       "    </tr>\n",
       "  </thead>\n",
       "  <tbody>\n",
       "    <tr>\n",
       "      <th>NA</th>\n",
       "      <td>0.024854</td>\n",
       "      <td>0.155769</td>\n",
       "      <td>0.000000</td>\n",
       "      <td>0.000000</td>\n",
       "    </tr>\n",
       "    <tr>\n",
       "      <th>high quality</th>\n",
       "      <td>0.000000</td>\n",
       "      <td>0.000000</td>\n",
       "      <td>0.211081</td>\n",
       "      <td>0.196327</td>\n",
       "    </tr>\n",
       "    <tr>\n",
       "      <th>low quality</th>\n",
       "      <td>0.000000</td>\n",
       "      <td>0.000000</td>\n",
       "      <td>0.176314</td>\n",
       "      <td>0.235655</td>\n",
       "    </tr>\n",
       "  </tbody>\n",
       "</table>\n",
       "</div>"
      ],
      "text/plain": [
       "Differential expression  high ambiguity  low ambiguity  over-expression  \\\n",
       "Call quality                                                              \n",
       "NA                             0.024854       0.155769         0.000000   \n",
       "high quality                   0.000000       0.000000         0.211081   \n",
       "low quality                    0.000000       0.000000         0.176314   \n",
       "\n",
       "Differential expression  under-expression  \n",
       "Call quality                               \n",
       "NA                               0.000000  \n",
       "high quality                     0.196327  \n",
       "low quality                      0.235655  "
      ]
     },
     "execution_count": 14,
     "metadata": {},
     "output_type": "execute_result"
    }
   ],
   "source": [
    "pandas.crosstab(diffex_df['Call quality'].fillna('NA'), diffex_df['Differential expression']) / len(diffex_df)"
   ]
  },
  {
   "cell_type": "code",
   "execution_count": 15,
   "metadata": {
    "collapsed": false
   },
   "outputs": [],
   "source": [
    "# filter differential expression\n",
    "diffex_df = diffex_df[\n",
    "    diffex_df['Differential expression'].isin({'over-expression', 'under-expression'}) &\n",
    "    diffex_df['Call quality'].isin({'low quality', 'high quality'})\n",
    "]"
   ]
  },
  {
   "cell_type": "code",
   "execution_count": 25,
   "metadata": {
    "collapsed": false
   },
   "outputs": [
    {
     "data": {
      "text/html": [
       "<div>\n",
       "<table border=\"1\" class=\"dataframe\">\n",
       "  <thead>\n",
       "    <tr style=\"text-align: right;\">\n",
       "      <th></th>\n",
       "      <th>Anatomical entity ID</th>\n",
       "      <th>Anatomical entity name</th>\n",
       "      <th>Differential expression</th>\n",
       "      <th>count</th>\n",
       "    </tr>\n",
       "  </thead>\n",
       "  <tbody>\n",
       "    <tr>\n",
       "      <th>0</th>\n",
       "      <td>CL:0000738</td>\n",
       "      <td>leukocyte</td>\n",
       "      <td>under-expression</td>\n",
       "      <td>12406</td>\n",
       "    </tr>\n",
       "    <tr>\n",
       "      <th>1</th>\n",
       "      <td>UBERON:0000473</td>\n",
       "      <td>testis</td>\n",
       "      <td>over-expression</td>\n",
       "      <td>10267</td>\n",
       "    </tr>\n",
       "    <tr>\n",
       "      <th>2</th>\n",
       "      <td>UBERON:0002369</td>\n",
       "      <td>adrenal gland</td>\n",
       "      <td>over-expression</td>\n",
       "      <td>9079</td>\n",
       "    </tr>\n",
       "    <tr>\n",
       "      <th>3</th>\n",
       "      <td>UBERON:0000955</td>\n",
       "      <td>brain</td>\n",
       "      <td>over-expression</td>\n",
       "      <td>8485</td>\n",
       "    </tr>\n",
       "    <tr>\n",
       "      <th>4</th>\n",
       "      <td>UBERON:0002369</td>\n",
       "      <td>adrenal gland</td>\n",
       "      <td>under-expression</td>\n",
       "      <td>7989</td>\n",
       "    </tr>\n",
       "  </tbody>\n",
       "</table>\n",
       "</div>"
      ],
      "text/plain": [
       "  Anatomical entity ID Anatomical entity name Differential expression  count\n",
       "0           CL:0000738              leukocyte        under-expression  12406\n",
       "1       UBERON:0000473                 testis         over-expression  10267\n",
       "2       UBERON:0002369          adrenal gland         over-expression   9079\n",
       "3       UBERON:0000955                  brain         over-expression   8485\n",
       "4       UBERON:0002369          adrenal gland        under-expression   7989"
      ]
     },
     "execution_count": 25,
     "metadata": {},
     "output_type": "execute_result"
    }
   ],
   "source": [
    "# Calculate counts per anatomy--DE pair\n",
    "de_anatomy_df = get_groupby_counts(diffex_df, ['Anatomical entity ID', 'Anatomical entity name', 'Differential expression'])\n",
    "de_anatomy_df.head()"
   ]
  },
  {
   "cell_type": "markdown",
   "metadata": {},
   "source": [
    "### Figure 2: Number of differntially expressed genes present by anatomical entity"
   ]
  },
  {
   "cell_type": "code",
   "execution_count": 17,
   "metadata": {
    "collapsed": false,
    "scrolled": false
   },
   "outputs": [
    {
     "name": "stderr",
     "output_type": "stream",
     "text": [
      "/home/dhimmels/anaconda3/envs/py35/lib/python3.5/site-packages/ipykernel/__main__.py:4: FutureWarning: sort(columns=....) is deprecated, use sort_values(by=.....)\n",
      "/home/dhimmels/anaconda3/envs/py35/lib/python3.5/site-packages/matplotlib/collections.py:590: FutureWarning: elementwise comparison failed; returning scalar instead, but in the future will perform elementwise comparison\n",
      "  self.set_edgecolor(c)\n"
     ]
    },
    {
     "data": {
      "image/png": "[encoded data removed]",
      "text/plain": [
       "<matplotlib.figure.Figure at 0x7ff3bf20a358>"
      ]
     },
     "metadata": {},
     "output_type": "display_data"
    }
   ],
   "source": [
    "# Plot DE counts\n",
    "rect_df = de_anatomy_df.pivot('Anatomical entity name', 'Differential expression', 'count').fillna(0)\n",
    "rect_df['differential expression'] = rect_df['under-expression'] + rect_df['over-expression']\n",
    "rect_df = rect_df.sort('differential expression', ascending=False)\n",
    "IPython.core.pylabtools.figsize(1, 16)\n",
    "cmap = seaborn.cubehelix_palette(15, start=2.2, rot=1, gamma=1.6, hue=1, light=0.98, dark=0, as_cmap=True)\n",
    "seaborn.heatmap(rect_df.drop('differential expression', axis=1), cmap=cmap);"
   ]
  },
  {
   "cell_type": "code",
   "execution_count": 18,
   "metadata": {
    "collapsed": false
   },
   "outputs": [],
   "source": [
    "diffex_pivot_df = diffex_df.pivot('Gene ID', 'Anatomical entity ID', 'Differential expression')\n",
    "diffex_pivot_df = diffex_pivot_df.replace({'under-expression': -1, 'over-expression': 1, numpy.NaN: 0})"
   ]
  },
  {
   "cell_type": "code",
   "execution_count": 19,
   "metadata": {
    "collapsed": false
   },
   "outputs": [],
   "source": [
    "def round_diffex(value):\n",
    "    if value <= -0.5:\n",
    "        return -1\n",
    "    if value >= 0.5:\n",
    "        return 1\n",
    "    return 0\n",
    "\n",
    "diffex_pivot_df = diffex_pivot_df.groupby(ensembl_to_entrez).mean().applymap(round_diffex)"
   ]
  },
  {
   "cell_type": "code",
   "execution_count": 20,
   "metadata": {
    "collapsed": false
   },
   "outputs": [
    {
     "data": {
      "text/html": [
       "<div>\n",
       "<table border=\"1\" class=\"dataframe\">\n",
       "  <thead>\n",
       "    <tr style=\"text-align: right;\">\n",
       "      <th>Anatomical entity ID</th>\n",
       "      <th>GeneID</th>\n",
       "      <th>CL:0000015</th>\n",
       "      <th>CL:0000738</th>\n",
       "      <th>UBERON:0000002</th>\n",
       "      <th>UBERON:0000007</th>\n",
       "      <th>UBERON:0000029</th>\n",
       "      <th>UBERON:0000044</th>\n",
       "      <th>UBERON:0000057</th>\n",
       "      <th>UBERON:0000082</th>\n",
       "      <th>UBERON:0000178</th>\n",
       "      <th>...</th>\n",
       "      <th>UBERON:0005363</th>\n",
       "      <th>UBERON:0007227</th>\n",
       "      <th>UBERON:0007318</th>\n",
       "      <th>UBERON:0007371</th>\n",
       "      <th>UBERON:0007808</th>\n",
       "      <th>UBERON:0009834</th>\n",
       "      <th>UBERON:0009835</th>\n",
       "      <th>UBERON:0010414</th>\n",
       "      <th>UBERON:0011876</th>\n",
       "      <th>UBERON:0013554</th>\n",
       "    </tr>\n",
       "  </thead>\n",
       "  <tbody>\n",
       "    <tr>\n",
       "      <th>18615</th>\n",
       "      <td>105378753</td>\n",
       "      <td>0</td>\n",
       "      <td>0</td>\n",
       "      <td>0</td>\n",
       "      <td>0</td>\n",
       "      <td>-1</td>\n",
       "      <td>0</td>\n",
       "      <td>0</td>\n",
       "      <td>-1</td>\n",
       "      <td>0</td>\n",
       "      <td>...</td>\n",
       "      <td>0</td>\n",
       "      <td>0</td>\n",
       "      <td>0</td>\n",
       "      <td>0</td>\n",
       "      <td>0</td>\n",
       "      <td>0</td>\n",
       "      <td>0</td>\n",
       "      <td>0</td>\n",
       "      <td>0</td>\n",
       "      <td>0</td>\n",
       "    </tr>\n",
       "    <tr>\n",
       "      <th>18616</th>\n",
       "      <td>105378933</td>\n",
       "      <td>0</td>\n",
       "      <td>0</td>\n",
       "      <td>0</td>\n",
       "      <td>0</td>\n",
       "      <td>0</td>\n",
       "      <td>0</td>\n",
       "      <td>0</td>\n",
       "      <td>0</td>\n",
       "      <td>0</td>\n",
       "      <td>...</td>\n",
       "      <td>0</td>\n",
       "      <td>0</td>\n",
       "      <td>0</td>\n",
       "      <td>0</td>\n",
       "      <td>0</td>\n",
       "      <td>0</td>\n",
       "      <td>0</td>\n",
       "      <td>0</td>\n",
       "      <td>0</td>\n",
       "      <td>0</td>\n",
       "    </tr>\n",
       "    <tr>\n",
       "      <th>18617</th>\n",
       "      <td>105378966</td>\n",
       "      <td>0</td>\n",
       "      <td>0</td>\n",
       "      <td>0</td>\n",
       "      <td>0</td>\n",
       "      <td>0</td>\n",
       "      <td>0</td>\n",
       "      <td>0</td>\n",
       "      <td>-1</td>\n",
       "      <td>0</td>\n",
       "      <td>...</td>\n",
       "      <td>0</td>\n",
       "      <td>0</td>\n",
       "      <td>0</td>\n",
       "      <td>0</td>\n",
       "      <td>0</td>\n",
       "      <td>0</td>\n",
       "      <td>0</td>\n",
       "      <td>0</td>\n",
       "      <td>0</td>\n",
       "      <td>0</td>\n",
       "    </tr>\n",
       "    <tr>\n",
       "      <th>18618</th>\n",
       "      <td>105379030</td>\n",
       "      <td>0</td>\n",
       "      <td>0</td>\n",
       "      <td>0</td>\n",
       "      <td>0</td>\n",
       "      <td>0</td>\n",
       "      <td>0</td>\n",
       "      <td>0</td>\n",
       "      <td>1</td>\n",
       "      <td>0</td>\n",
       "      <td>...</td>\n",
       "      <td>0</td>\n",
       "      <td>0</td>\n",
       "      <td>0</td>\n",
       "      <td>0</td>\n",
       "      <td>0</td>\n",
       "      <td>0</td>\n",
       "      <td>0</td>\n",
       "      <td>0</td>\n",
       "      <td>0</td>\n",
       "      <td>0</td>\n",
       "    </tr>\n",
       "    <tr>\n",
       "      <th>18619</th>\n",
       "      <td>105379175</td>\n",
       "      <td>0</td>\n",
       "      <td>0</td>\n",
       "      <td>0</td>\n",
       "      <td>0</td>\n",
       "      <td>1</td>\n",
       "      <td>0</td>\n",
       "      <td>0</td>\n",
       "      <td>0</td>\n",
       "      <td>0</td>\n",
       "      <td>...</td>\n",
       "      <td>0</td>\n",
       "      <td>0</td>\n",
       "      <td>0</td>\n",
       "      <td>0</td>\n",
       "      <td>0</td>\n",
       "      <td>0</td>\n",
       "      <td>0</td>\n",
       "      <td>0</td>\n",
       "      <td>0</td>\n",
       "      <td>0</td>\n",
       "    </tr>\n",
       "  </tbody>\n",
       "</table>\n",
       "<p>5 rows × 99 columns</p>\n",
       "</div>"
      ],
      "text/plain": [
       "Anatomical entity ID     GeneID  CL:0000015  CL:0000738  UBERON:0000002  \\\n",
       "18615                 105378753           0           0               0   \n",
       "18616                 105378933           0           0               0   \n",
       "18617                 105378966           0           0               0   \n",
       "18618                 105379030           0           0               0   \n",
       "18619                 105379175           0           0               0   \n",
       "\n",
       "Anatomical entity ID  UBERON:0000007  UBERON:0000029  UBERON:0000044  \\\n",
       "18615                              0              -1               0   \n",
       "18616                              0               0               0   \n",
       "18617                              0               0               0   \n",
       "18618                              0               0               0   \n",
       "18619                              0               1               0   \n",
       "\n",
       "Anatomical entity ID  UBERON:0000057  UBERON:0000082  UBERON:0000178  \\\n",
       "18615                              0              -1               0   \n",
       "18616                              0               0               0   \n",
       "18617                              0              -1               0   \n",
       "18618                              0               1               0   \n",
       "18619                              0               0               0   \n",
       "\n",
       "Anatomical entity ID       ...        UBERON:0005363  UBERON:0007227  \\\n",
       "18615                      ...                     0               0   \n",
       "18616                      ...                     0               0   \n",
       "18617                      ...                     0               0   \n",
       "18618                      ...                     0               0   \n",
       "18619                      ...                     0               0   \n",
       "\n",
       "Anatomical entity ID  UBERON:0007318  UBERON:0007371  UBERON:0007808  \\\n",
       "18615                              0               0               0   \n",
       "18616                              0               0               0   \n",
       "18617                              0               0               0   \n",
       "18618                              0               0               0   \n",
       "18619                              0               0               0   \n",
       "\n",
       "Anatomical entity ID  UBERON:0009834  UBERON:0009835  UBERON:0010414  \\\n",
       "18615                              0               0               0   \n",
       "18616                              0               0               0   \n",
       "18617                              0               0               0   \n",
       "18618                              0               0               0   \n",
       "18619                              0               0               0   \n",
       "\n",
       "Anatomical entity ID  UBERON:0011876  UBERON:0013554  \n",
       "18615                              0               0  \n",
       "18616                              0               0  \n",
       "18617                              0               0  \n",
       "18618                              0               0  \n",
       "18619                              0               0  \n",
       "\n",
       "[5 rows x 99 columns]"
      ]
     },
     "execution_count": 20,
     "metadata": {},
     "output_type": "execute_result"
    }
   ],
   "source": [
    "diffex_pivot_df = diffex_pivot_df.reset_index()\n",
    "diffex_pivot_df = diffex_pivot_df.rename(columns=({'index': 'GeneID'}))\n",
    "diffex_pivot_df.GeneID = diffex_pivot_df.GeneID.astype(int)\n",
    "\n",
    "# save dataframe\n",
    "with gzip.open('data/diffex.tsv.gz', 'wt') as write_file:\n",
    "    diffex_pivot_df.to_csv(write_file, sep='\\t', index=False)\n",
    "\n",
    "# see tail\n",
    "diffex_pivot_df.tail()"
   ]
  },
  {
   "cell_type": "code",
   "execution_count": 21,
   "metadata": {
    "collapsed": false
   },
   "outputs": [
    {
     "data": {
      "text/plain": [
       "16184"
      ]
     },
     "execution_count": 21,
     "metadata": {},
     "output_type": "execute_result"
    }
   ],
   "source": [
    "# Coding genes in entrez dataset\n",
    "len(set(diffex_pivot_df.GeneID) & coding_genes)"
   ]
  }
 ],
 "metadata": {
  "kernelspec": {
   "display_name": "Python 3",
   "language": "python",
   "name": "python3"
  },
  "language_info": {
   "codemirror_mode": {
    "name": "ipython",
    "version": 3
   },
   "file_extension": ".py",
   "mimetype": "text/x-python",
   "name": "python",
   "nbconvert_exporter": "python",
   "pygments_lexer": "ipython3",
   "version": "3.5.1"
  }
 },
 "nbformat": 4,
 "nbformat_minor": 0
}
